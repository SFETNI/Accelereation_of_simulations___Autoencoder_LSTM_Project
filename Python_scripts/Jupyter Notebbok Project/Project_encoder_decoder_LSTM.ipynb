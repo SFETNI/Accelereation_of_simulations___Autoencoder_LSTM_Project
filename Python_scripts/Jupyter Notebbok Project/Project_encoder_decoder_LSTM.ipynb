{
 "cells": [
  {
   "cell_type": "markdown",
   "metadata": {},
   "source": [
    "## Introduction"
   ]
  },
  {
   "cell_type": "markdown",
   "metadata": {},
   "source": [
    "This jupyter notebook project is related to this article \n",
    "https://www.sciencedirect.com/science/article/pii/S0927025622005316?dgcid=author\n",
    "\n",
    "If you use this code for research purposes, you are kindly invited to cite the associated research article:\n",
    "\"Seifallah Fetni, Thinh Quy Duc Pham, Truong Vinh Hoang, Hoang Son Tran, Laurent Duchêne, Xuan-Van Tran, Anne Marie Habraken,\n",
    "Capabilities of Auto-encoders and Principal Component Analysis of the reduction of microstructural images; Application on the acceleration of Phase-Field simulations, Computational Materials Science, Volume 216, 2023, 111820, ISSN 0927-0256, https://doi.org/10.1016/j.commatsci.2022.111820.\""
   ]
  },
  {
   "cell_type": "markdown",
   "metadata": {},
   "source": [
    "### Abstract"
   ]
  },
  {
   "cell_type": "markdown",
   "metadata": {},
   "source": [
    "In this work, a data-driven framework based on Phase-Field simulations data is proposed to highlight the capabilities of neural networks to ensure accurate low dimensionality reduction of simulated microstructural images and to provide time-series analysis. The dataset was indeed constructed from high-fidelity Phase-Field simulations. Analyses demonstrated that the association of auto-encoder neural networks and principal component analyses leads to ensure efficient and significant dimensionality reduction: 1/196 of reduction ratio with more than 80% of accuracy. These findings give insight to apply analyses on data from the latent dimension. Application of Long Short Term Memory (LSTM) neural networks showed the possibility of making next frame predictions; that makes possible the acceleration of Phase-Field simulation without the need of high computing resources. We discussed the application of such a framework on various areas of research. Different methods are proposed from the conducted analyses, in order to ensure dimensionality reduction (auto-encoders, principal component analysis, Artificial Neural Networks) and time-series analysis (LSTM, Gated Recurrent Unit (GRU))."
   ]
  },
  {
   "cell_type": "markdown",
   "metadata": {},
   "source": [
    "### Keywrods"
   ]
  },
  {
   "cell_type": "markdown",
   "metadata": {},
   "source": [
    "Phase field ; Spinodal decomposition ; LSTM ; GRU ; Auto-encoders ; PCA ; HPC"
   ]
  },
  {
   "cell_type": "markdown",
   "metadata": {},
   "source": [
    "# Import"
   ]
  },
  {
   "cell_type": "code",
   "execution_count": null,
   "metadata": {},
   "outputs": [],
   "source": [
    "import numpy as np    #https://numpy.org/doc/stable/license.html\n",
    "import matplotlib.pyplot as plt #   #https://matplotlib.org/stable/users/project/license.html\n",
    "\n",
    "import tensorflow as tf  #https://github.com/tensorflow/tensorflow/blob/master/LICENSE\n",
    "from tensorflow import keras\n",
    "from tensorflow.keras import layers\n",
    "\n",
    "import io\n",
    "import cv2  #https://opencv.org/license/\n",
    "import imageio  #https://github.com/imageio/imageio/blob/master/LICENSE\n",
    "#from ipywidgets import widgets, Layout, HBox\n",
    "import matplotlib.colors as colors\n",
    "from skimage.transform import resize  #https://github.com/scikit-image/skimage-media/blob/main/LICENSE\n",
    "from skimage.color import rgb2gray\n",
    "\n",
    "from keras.callbacks import EarlyStopping #https://github.com/keras-team/keras/blob/master/LICENSE\n",
    "import os\n",
    "from sklearn.preprocessing import MinMaxScaler  #https://github.com/scikit-learn/sklearn-docbuilder/blob/master/LICENSE\n",
    "from numba import jit  # use to speed up python"
   ]
  },
  {
   "cell_type": "markdown",
   "metadata": {},
   "source": [
    "# Functions"
   ]
  },
  {
   "cell_type": "code",
   "execution_count": null,
   "metadata": {},
   "outputs": [],
   "source": [
    "import re\n",
    "# https://stackoverflow.com/questions/4813061/non-alphanumeric-list-order-from-os-listdir/48030307#48030307\n",
    "def sorted_alphanumeric(data):\n",
    "    convert = lambda text: int(text) if text.isdigit() else text.lower()\n",
    "    alphanum_key = lambda key: [ convert(c) for c in re.split('([0-9]+)', key) ] \n",
    "    return sorted(data, key=alphanum_key)"
   ]
  },
  {
   "cell_type": "code",
   "execution_count": null,
   "metadata": {},
   "outputs": [],
   "source": [
    "# load all images from a givel folder\n",
    "@jit\n",
    "def load_images_from_folder(folder):\n",
    "    images = []\n",
    "    list=sorted_alphanumeric(os.listdir(folder))\n",
    "\n",
    "    for filename in list:\n",
    "\n",
    "        img = cv2.imread(os.path.join(folder,filename))  # if binary, cv2.imread(os.path.join(folder,filename),2)\n",
    "        img=cv2.resize(img, (128,128))\n",
    "\n",
    "        #If desired binary images in output\n",
    "        #img=img[:,:,0]                #  uncomment (these 2 lines) if the desired output is  binary images (method 1 to make images binary )\n",
    "        #img=img.reshape(128,128,1)    #  idm\n",
    "\n",
    "        #img=rgb2gray(img)   #  method 2 to make images binary \n",
    "        #ret, img = cv2.threshold(img,127,255,cv2.THRESH_BINARY)  # uncomment if binary images\n",
    "\n",
    "        if img is not None:\n",
    "\n",
    "            images.append(img)\n",
    "\n",
    "    return images"
   ]
  },
  {
   "cell_type": "code",
   "execution_count": null,
   "metadata": {},
   "outputs": [],
   "source": [
    "# check if all elements of a list are equals or not :\n",
    "def are_equal(list):\n",
    "    Element= list[0]\n",
    "    isEqual = True\n",
    "    \n",
    "    for item in list:\n",
    "        if Element != item:\n",
    "            isEqual = False\n",
    "            break;      \n",
    "    return isEqual"
   ]
  },
  {
   "cell_type": "code",
   "execution_count": null,
   "metadata": {},
   "outputs": [],
   "source": [
    "# get dimensions of the data\n",
    "@jit\n",
    "def get_data_shape(input_dir) :\n",
    "    \n",
    "    data=[]\n",
    "    # number of folders in current directory\n",
    "    folders_number=len([name for name in os.listdir(input_dir) ])\n",
    "    # get length of each sequence\n",
    "    sub_directories = os.listdir(input_dir) \n",
    "    array_seq_len=[]\n",
    "\n",
    "    for f in sub_directories:\n",
    "        folder_list = os.listdir(os.path.join(input_dir, f))\n",
    "        f_path=os.path.join(input_dir,f)\n",
    "        seq_len=len([filename for filename in os.listdir(f_path) if os.path.isfile(os.path.join(f_path, filename))])\n",
    "        array_seq_len.append(seq_len)\n",
    "    # get image_size\n",
    "    im = cv2.imread(os.path.join(f_path, os.listdir(f_path)[0]))\n",
    "\n",
    "    #  check if all sequences have the same length\n",
    "    if are_equal(array_seq_len):\n",
    "        data_shape=np.array([folders_number, array_seq_len[0],im.shape[0],im.shape[1],im.shape[2]])\n",
    "        return data_shape\n",
    "    else:\n",
    "        print('error, check your folders, at least one of them contains a different number of images') "
   ]
  },
  {
   "cell_type": "code",
   "execution_count": null,
   "metadata": {},
   "outputs": [],
   "source": [
    "@jit\n",
    "def load_all_data(input_dir):\n",
    "\n",
    "    data_shape = get_data_shape(input_dir) \n",
    "    #np.empty(shape=(data_shape[0],data_shape[1],data_shape[2],data_shape[3],data_shape[4] ))  \n",
    "    #data=np.empty([data_shape[1],data_shape[2],data_shape[3],data_shape[4] ])  \n",
    "    data=[]\n",
    "    folders = os.listdir(input_dir)\n",
    "\n",
    "    for f in folders:\n",
    "        f_path=os.path.join(input_dir,f)\n",
    "        folder_list = [filename for filename in os.listdir(f_path) if os.path.isfile(os.path.join(f_path, filename))]\n",
    "        #print(folder_list)\n",
    "        sequence= load_images_from_folder(os.path.join(input_dir, f))\n",
    "        data.append(sequence)    \n",
    "          \n",
    "    data=np.asarray(data)    \n",
    "    #data = data.reshape(data_shape[0],data_shape[1],...)\n",
    "    #print('data imported, seq_number:= ',data.shape[0])\n",
    "    #data = np.expand_dims(data, axis=-1)   #uncomment if binary\n",
    "    return data"
   ]
  },
  {
   "cell_type": "code",
   "execution_count": null,
   "metadata": {},
   "outputs": [],
   "source": [
    "def invert_transform(data,scaler):\n",
    "    for i in range(data.shape[0]):   \n",
    "        for j in range(data.shape[1]):\n",
    "            x=data[i][j]\n",
    "            x = x.reshape(len(x), 1)\n",
    "            scaler = scaler.fit(x)  \n",
    "            x_inverted=scaler.inverse_transform(x)\n",
    "            x_inverted=np.squeeze(x_inverted, axis=1)\n",
    "            data[i][j]=x_inverted\n",
    "    return data"
   ]
  },
  {
   "cell_type": "code",
   "execution_count": null,
   "metadata": {},
   "outputs": [],
   "source": [
    "# denoise reconstructed image#\n",
    "def denoise_image(reco):\n",
    "    import numpy as np\n",
    "    import cv2\n",
    "    from matplotlib import pyplot as plt\n",
    "   \n",
    "    plt.axis('off')\n",
    "    show_image(reco)\n",
    "    \n",
    "    plt.savefig('reco',bbox_inches=\"tight\",pad_inches=0)\n",
    "    img= cv2.imread('reco.png')\n",
    "    plt.close()\n",
    "    dst = cv2.fastNlMeansDenoisingColored(img, None, 10, 10, 10, 7)\n",
    "\n",
    "    dst =cv2.resize(dst,(128,128),interpolation= cv2.INTER_LINEAR)\n",
    "    \"\"\"\n",
    "    # Plotting of source and destination image\n",
    "    plt.subplot(121), show_image(img.astype('float32') / 255.0 - 0.5)\n",
    "    plt.title(\"Before\")\n",
    "\n",
    "    plt.subplot(122), show_image(dst.astype('float32') / 255.0 - 0.5)\n",
    "    plt.title(\"After\")\n",
    "    \"\"\"\n",
    "    reco_denoised=dst.astype('float32') / 255.0 - 0.5\n",
    "\n",
    "    #print(reco_denoised.shape)\n",
    "    #print(reco.min(), reco.max())\n",
    "    #print(reco_denoised.min(), reco_denoised.max())\n",
    "    return  reco_denoised"
   ]
  },
  {
   "cell_type": "markdown",
   "metadata": {},
   "source": [
    "# Import data   (HPC strongly recommended)"
   ]
  },
  {
   "cell_type": "code",
   "execution_count": null,
   "metadata": {},
   "outputs": [],
   "source": [
    "dataset=load_all_data('sim_data')  # load a dataset from a folder 'sim_data' (not from a single .npy file)"
   ]
  },
  {
   "cell_type": "code",
   "execution_count": null,
   "metadata": {},
   "outputs": [],
   "source": [
    "dataset=np.load('dataset_4800_bin.npy')    # big memory needed , be sure your dataset doesn't exceed few GBs depending on your "
   ]
  },
  {
   "cell_type": "markdown",
   "metadata": {},
   "source": [
    "##  Save all-files names (number of samples + each simulation characteristics) in a list"
   ]
  },
  {
   "cell_type": "code",
   "execution_count": null,
   "metadata": {},
   "outputs": [
    {
     "data": {
      "text/plain": [
       "\"\\ndata_dir=os.path.join(os.getcwd(),'sim_data/')\\nsub_directories =sorted_alphanumeric(os.listdir(data_dir))\\nlist_names=[]\\nfor f in sub_directories:\\n    sequence_names=[]\\n    folder_list = sorted_alphanumeric(os.listdir(os.path.join(data_dir, f)))\\n    f_path=os.path.join(data_dir,f)\\n    for filename in sorted_alphanumeric(os.listdir(f_path)):    \\n        sequence_names.append(filename)\\n\\n    list_names.append(sequence_names)\\n\""
      ]
     },
     "execution_count": 194,
     "metadata": {},
     "output_type": "execute_result"
    }
   ],
   "source": [
    "# save all file-names in a list ==> to use later for training RNN models\n",
    "# uncomment if you load a dataset from a folder 'sim_data' \n",
    "\"\"\"\n",
    "data_dir=os.path.join(os.getcwd(),'sim_data/')\n",
    "sub_directories =sorted_alphanumeric(os.listdir(data_dir))\n",
    "list_names=[]\n",
    "for f in sub_directories:\n",
    "    sequence_names=[]\n",
    "    folder_list = sorted_alphanumeric(os.listdir(os.path.join(data_dir, f)))\n",
    "    f_path=os.path.join(data_dir,f)\n",
    "    for filename in sorted_alphanumeric(os.listdir(f_path)):    \n",
    "        sequence_names.append(filename)\n",
    "\n",
    "    list_names.append(sequence_names)\n",
    "\"\"\"\n"
   ]
  },
  {
   "cell_type": "markdown",
   "metadata": {},
   "source": [
    "## prepare data for encoder-decoder model"
   ]
  },
  {
   "cell_type": "code",
   "execution_count": null,
   "metadata": {},
   "outputs": [
    {
     "name": "stdout",
     "output_type": "stream",
     "text": [
      "(25, 100, 128, 128, 3) (2500, 128, 128, 3)\n"
     ]
    }
   ],
   "source": [
    "encod_dataset=dataset.reshape(np.prod(dataset.shape[:2]),*dataset.shape[2:])\n",
    "print(dataset.shape,encod_dataset.shape)\n",
    "X=encod_dataset\n"
   ]
  },
  {
   "cell_type": "code",
   "execution_count": null,
   "metadata": {},
   "outputs": [],
   "source": [
    "X = X.astype('float32') / 255.0 - 0.5   # big memory needed to normalize data (should be run in HPC, expect relatively small datasets)"
   ]
  },
  {
   "cell_type": "code",
   "execution_count": null,
   "metadata": {},
   "outputs": [
    {
     "name": "stdout",
     "output_type": "stream",
     "text": [
      "0.49215686 -0.49607843\n"
     ]
    }
   ],
   "source": [
    "print(X.max(), X.min())"
   ]
  },
  {
   "cell_type": "markdown",
   "metadata": {},
   "source": [
    "## show sample(s)"
   ]
  },
  {
   "cell_type": "code",
   "execution_count": null,
   "metadata": {},
   "outputs": [],
   "source": [
    "import matplotlib.pyplot as plt\n",
    "def show_image(img):\n",
    "    plt.imshow(np.clip(img + 0.5, 0, 1))  # uncomment if RGB\n",
    "    #plt.imshow(img) # if binary"
   ]
  },
  {
   "cell_type": "code",
   "execution_count": null,
   "metadata": {},
   "outputs": [],
   "source": [
    "show_image(X[np.random.choice(range(len(X)), size=1)[0]])"
   ]
  },
  {
   "cell_type": "code",
   "execution_count": null,
   "metadata": {},
   "outputs": [],
   "source": [
    "from sklearn.model_selection import train_test_split\n",
    "# the use of random_state is to reproduce the same results at each time \n",
    "X_train, X_test = train_test_split(X, test_size=0.1, random_state=42) "
   ]
  },
  {
   "cell_type": "code",
   "execution_count": null,
   "metadata": {},
   "outputs": [
    {
     "data": {
      "image/png": "[encoded data removed]",
      "text/plain": [
       "<Figure size 432x288 with 1 Axes>"
      ]
     },
     "metadata": {
      "needs_background": "light"
     },
     "output_type": "display_data"
    }
   ],
   "source": [
    "show_image(X_test[np.random.choice(range(len(X_test)), size=1)[0]])"
   ]
  },
  {
   "cell_type": "markdown",
   "metadata": {},
   "source": [
    "## for binary data"
   ]
  },
  {
   "cell_type": "code",
   "execution_count": null,
   "metadata": {},
   "outputs": [
    {
     "name": "stdout",
     "output_type": "stream",
     "text": [
      "(2250, 128, 128, 3) -0.49607843 0.49215686\n",
      "(2250, 128, 128, 3) 0.0 1.0\n",
      "(2250, 128, 128, 3) -0.49607846 0.49215692\n"
     ]
    }
   ],
   "source": [
    "scaler= MinMaxScaler(feature_range=(0,1))\n",
    "scaler_ND = NDStandardScaler()\n",
    "X_train_scaled= scaler_ND.fit_transform(X_train[:10000] )\n",
    "X_test_scaled= scaler_ND.fit_transform(X_test[:] )\n",
    "X_train_rescaled=scaler_ND.inverse_transform(X_train_scaled)\n",
    "print(X_train.shape, X_train.min(),X_train.max())\n",
    "print(X_train_scaled.shape, X_train_scaled.min(),X_train_scaled.max())\n",
    "print(X_train_rescaled.shape, X_train_rescaled.min(),X_train_rescaled.max())"
   ]
  },
  {
   "cell_type": "code",
   "execution_count": null,
   "metadata": {},
   "outputs": [],
   "source": [
    "index=np.random.choice(range(len(X_train_scaled)))\n",
    "\n",
    "plt.subplot(1,2,1)\n",
    "plt.title(\"original\")\n",
    "show_image(X_train[index] )\n",
    "plt.subplot(1,2,2)\n",
    "show_image(X_train_rescaled[index] )\n",
    "plt.title(\"Reconstructed\")\n",
    "plt.show()"
   ]
  },
  {
   "cell_type": "code",
   "execution_count": null,
   "metadata": {},
   "outputs": [],
   "source": [
    "# before\n",
    "print(X_train_scaled.shape)\n",
    "print(X_test_scaled.shape)"
   ]
  },
  {
   "cell_type": "code",
   "execution_count": null,
   "metadata": {},
   "outputs": [],
   "source": [
    "X_train_scaled = X_train_scaled.reshape((X_train_scaled.shape[0], -1))\n",
    "X_test_scaled = X_test_scaled.reshape((X_test_scaled.shape[0], -1))\n"
   ]
  },
  {
   "cell_type": "code",
   "execution_count": null,
   "metadata": {},
   "outputs": [],
   "source": [
    "# after\n",
    "print(X_train_scaled.shape)\n",
    "print(X_test_scaled.shape)"
   ]
  },
  {
   "cell_type": "markdown",
   "metadata": {},
   "source": [
    "## Trials on auto-encoding"
   ]
  },
  {
   "cell_type": "code",
   "execution_count": null,
   "metadata": {},
   "outputs": [],
   "source": [
    "from keras import regularizers\n",
    "\n",
    "encoding_dim = 250\n",
    "\n",
    "input_img = keras.Input(shape=(X_train_scaled.shape[1],))\n",
    "# Add a Dense layer with a L1 activity regularizer\n",
    "encoded = layers.Dense(encoding_dim, activation='relu',\n",
    "                activity_regularizer=regularizers.l1(10e-5))(input_img)\n",
    "decoded = layers.Dense(X_train_scaled.shape[1], activation='sigmoid')(encoded)\n",
    "\n",
    "autoencoder = keras.Model(input_img, decoded)"
   ]
  },
  {
   "cell_type": "code",
   "execution_count": null,
   "metadata": {},
   "outputs": [],
   "source": [
    "input_img = keras.Input(shape=(X_train_scaled.shape[1],))\n",
    "encoded = layers.Dense(2000, activation='relu')(input_img)\n",
    "encoded = layers.Dense(1000, activation='relu')(encoded)\n",
    "encoded = layers.Dense(250, activation='relu')(encoded)\n",
    "\n",
    "decoded = layers.Dense(1000, activation='relu')(encoded)\n",
    "decoded = layers.Dense(2000, activation='relu')(decoded)\n",
    "decoded = layers.Dense(X_train_scaled.shape[1], activation='sigmoid')(decoded)"
   ]
  },
  {
   "cell_type": "code",
   "execution_count": null,
   "metadata": {},
   "outputs": [],
   "source": [
    "autoencoder = keras.Model(input_img, decoded)\n",
    "autoencoder.compile(optimizer='adam', loss='binary_crossentropy')\n",
    "\n",
    "autoencoder.fit(X_train_scaled, X_train_scaled,\n",
    "                epochs=10,\n",
    "                batch_size=10,\n",
    "                shuffle=True,\n",
    "                validation_data=(X_test_scaled, X_test_scaled))"
   ]
  },
  {
   "cell_type": "markdown",
   "metadata": {},
   "source": [
    "# Encoder-Decoder Model - Layer 1  (HPC stronly recommended)------------------------------------------\n",
    "--------------------------------------------------------------------------------------------------------------------------------------------"
   ]
  },
  {
   "cell_type": "markdown",
   "metadata": {},
   "source": [
    "This architecture is based on  https://stackabuse.com/autoencoders-for-image-reconstruction-in-python-and-keras/"
   ]
  },
  {
   "cell_type": "code",
   "execution_count": null,
   "metadata": {},
   "outputs": [],
   "source": [
    "from keras.layers import Dense, Flatten, Reshape, Input, InputLayer\n",
    "from keras.models import Sequential, Model"
   ]
  },
  {
   "cell_type": "code",
   "execution_count": null,
   "metadata": {},
   "outputs": [],
   "source": [
    "def build_autoencoder(img_shape, code_size):\n",
    "    # The encoder\n",
    "    encoder = Sequential()\n",
    "    encoder.add(InputLayer(img_shape))\n",
    "    \n",
    "    encoder.add(Flatten())\n",
    "    encoder.add(Dense(code_size*10))\n",
    "    \n",
    "    encoder.add(Flatten())\n",
    "    encoder.add(Dense(code_size))\n",
    "\n",
    "    # The decoder\n",
    "    \n",
    "    decoder = Sequential()\n",
    "    decoder.add(InputLayer((code_size*10,)))\n",
    "    \n",
    "    decoder = Sequential()\n",
    "    decoder.add(InputLayer((code_size,)))\n",
    "    decoder.add(Dense(np.prod(img_shape))) \n",
    "    decoder.add(Reshape(img_shape))\n",
    "\n",
    "    return encoder, decoder"
   ]
  },
  {
   "cell_type": "code",
   "execution_count": null,
   "metadata": {},
   "outputs": [
    {
     "name": "stdout",
     "output_type": "stream",
     "text": [
      "Model: \"model_8\"\n",
      "_________________________________________________________________\n",
      "Layer (type)                 Output Shape              Param #   \n",
      "=================================================================\n",
      "input_76 (InputLayer)        [(None, 128, 128, 1)]     0         \n",
      "_________________________________________________________________\n",
      "sequential_51 (Sequential)   (None, 250)               41587750  \n",
      "_________________________________________________________________\n",
      "sequential_53 (Sequential)   (None, 128, 128, 1)       4112384   \n",
      "=================================================================\n",
      "Total params: 45,700,134\n",
      "Trainable params: 45,700,134\n",
      "Non-trainable params: 0\n",
      "_________________________________________________________________\n",
      "None\n"
     ]
    }
   ],
   "source": [
    "IMG_SHAPE = X.shape[1:]\n",
    "\n",
    "encoder, decoder = build_autoencoder(IMG_SHAPE, 250)\n",
    "\n",
    "inp = Input(IMG_SHAPE)\n",
    "\n",
    "code = encoder(inp)\n",
    "\n",
    "reconstruction = decoder(code)\n",
    "\n",
    "\n",
    "\n",
    "autoencoder = Model(inp,reconstruction)\n",
    "\n",
    "#autoencoder.compile( optimizer= 'adamax', loss='mse', metrics=['MSE'])\n",
    "autoencoder.compile(optimizer='adam', loss='binary_crossentropy')\n",
    "\n",
    "print(autoencoder.summary())\n",
    "callbacks = [EarlyStopping(monitor='MSE', min_delta=0, patience=10)]\n"
   ]
  },
  {
   "cell_type": "markdown",
   "metadata": {},
   "source": [
    "## train the encoder-decoder model"
   ]
  },
  {
   "cell_type": "code",
   "execution_count": null,
   "metadata": {},
   "outputs": [],
   "source": [
    "history = autoencoder.fit(X_train_scaled, X_train_scaled,\n",
    "                epochs=20,\n",
    "                batch_size=32,  \n",
    "                shuffle=True,\n",
    "                verbose=1,\n",
    "                validation_data=(X_test_scaled, X_test_scaled))\n"
   ]
  },
  {
   "cell_type": "code",
   "execution_count": null,
   "metadata": {},
   "outputs": [
    {
     "data": {
      "text/plain": [
       "\"\\nencoder.save(os.path.join(os.getcwd(),'saved_computed_models'),'encoder_7000_500.h5')\\ndecoder.save(os.path.join(os.getcwd(),'saved_computed_models'),'decoder_7000_500.h5')\\n\""
      ]
     },
     "execution_count": 33,
     "metadata": {},
     "output_type": "execute_result"
    }
   ],
   "source": [
    "# save the enocder and decoder\n",
    "\"\"\"\n",
    "encoder.save(os.path.join(os.getcwd(),'saved_computed_models'),'encoder_7000_500.h5')\n",
    "decoder.save(os.path.join(os.getcwd(),'saved_computed_models'),'decoder_7000_500.h5')\n",
    "\"\"\""
   ]
  },
  {
   "cell_type": "markdown",
   "metadata": {},
   "source": [
    "## loss curve"
   ]
  },
  {
   "cell_type": "code",
   "execution_count": null,
   "metadata": {},
   "outputs": [],
   "source": [
    "plt.plot(history.history['loss'])\n",
    "plt.plot(history.history['val_loss'])\n",
    "plt.title('model loss')\n",
    "plt.ylabel('loss')\n",
    "plt.xlabel('epoch')\n",
    "plt.legend(['train', 'test'], loc='upper left')\n",
    "plt.show()"
   ]
  },
  {
   "cell_type": "markdown",
   "metadata": {},
   "source": [
    "## make predictions"
   ]
  },
  {
   "cell_type": "code",
   "execution_count": null,
   "metadata": {},
   "outputs": [],
   "source": [
    "# https://stackabuse.com/autoencoders-for-image-reconstruction-in-python-and-keras/\n",
    "def visualize_samples(img,encoder,decoder):\n",
    "    \"\"\"Draws original, encoded and decoded images\"\"\"\n",
    "   \n",
    "    code = encoder.predict(img[None])[0]\n",
    "    reco = decoder.predict(code[None])[0]\n",
    "\n",
    "    plt.subplot(1,3,1)\n",
    "    plt.title(\"Original\")\n",
    "    show_image(img)\n",
    "\n",
    "    plt.subplot(1,3,2)\n",
    "    plt.title(\"Code\")\n",
    "    plt.imshow(code.reshape([code.shape[-1]//10,-1]))\n",
    "    \n",
    "\n",
    "    plt.subplot(1,3,3)\n",
    "    plt.title(\"Reconstructed\")\n",
    "    show_image(reco)\n",
    "    plt.show()\n",
    "\n",
    "# plot 5 arbitrary frames and their images from the validation dataset\n",
    "for i in range(50):\n",
    "    img = X_test[np.random.choice(range(len(X_test)), size=1)[0]]\n",
    "    visualize_samples(img,encoder,decoder)"
   ]
  },
  {
   "cell_type": "markdown",
   "metadata": {},
   "source": [
    "# load the encoded-decoded model"
   ]
  },
  {
   "cell_type": "code",
   "execution_count": null,
   "metadata": {},
   "outputs": [
    {
     "name": "stdout",
     "output_type": "stream",
     "text": [
      "WARNING:tensorflow:No training configuration found in the save file, so the model was *not* compiled. Compile it manually.\n",
      "WARNING:tensorflow:No training configuration found in the save file, so the model was *not* compiled. Compile it manually.\n"
     ]
    }
   ],
   "source": [
    "from keras.models import load_model\n",
    "save_dir=os.path.join(os.getcwd(), 'saved_computed_models\\\\')\n",
    " \n",
    "#encoder_decoder = load_model(save_dir+model_name)\n",
    "encoder= load_model(save_dir+'encoder_7000_750.h5')\n",
    "decoder= load_model(save_dir+'decoder_7000_750.h5')\n",
    "\n"
   ]
  },
  {
   "cell_type": "markdown",
   "metadata": {},
   "source": [
    "## Evaluate the encoder-decoder model"
   ]
  },
  {
   "cell_type": "code",
   "execution_count": null,
   "metadata": {},
   "outputs": [
    {
     "name": "stdout",
     "output_type": "stream",
     "text": [
      "(128, 128, 3)\n",
      "0.49215686\n"
     ]
    },
    {
     "data": {
      "image/png": "[encoded data removed]",
      "text/plain": [
       "<Figure size 432x288 with 2 Axes>"
      ]
     },
     "metadata": {
      "needs_background": "light"
     },
     "output_type": "display_data"
    }
   ],
   "source": [
    "img=X_test[np.random.choice(range(len(X_test)))]\n",
    "print(img.shape)\n",
    "print(img.max())\n",
    "\n",
    "code= encoder.predict(img[None])[0]\n",
    "reco = decoder.predict(code[None])[0]\n",
    "plt.subplot(1,2,1)\n",
    "plt.title(\"original\")\n",
    "show_image(img)\n",
    "plt.subplot(1,2,2)\n",
    "show_image(reco )\n",
    "plt.title(\"Reconstructed\")\n",
    "plt.show()"
   ]
  },
  {
   "cell_type": "code",
   "execution_count": null,
   "metadata": {},
   "outputs": [
    {
     "data": {
      "image/png": "[encoded data removed]",
      "text/plain": [
       "<Figure size 432x288 with 1 Axes>"
      ]
     },
     "metadata": {
      "needs_background": "light"
     },
     "output_type": "display_data"
    }
   ],
   "source": [
    "show_image(denoise_image(denoise_image(reco )) )"
   ]
  },
  {
   "cell_type": "markdown",
   "metadata": {},
   "source": [
    "# Prepare the encoded Dataset ===> 3D array (Samples x Sequence x Image_shape) ==> RNNs"
   ]
  },
  {
   "cell_type": "code",
   "execution_count": null,
   "metadata": {},
   "outputs": [
    {
     "name": "stdout",
     "output_type": "stream",
     "text": [
      "(25, 100, 1000)\n"
     ]
    }
   ],
   "source": [
    "# remind that X is the dataset (normalized :/255 and centred :-0.5)\n",
    "\"\"\"\n",
    "X=X.reshape(dataset.shape)\n",
    "encoded_data=[]\n",
    "for i in range(dataset.shape[0]):   \n",
    "    encoded_sequence=[]\n",
    "    for j in range(dataset.shape[1]):\n",
    "        img=X[i][j]\n",
    "        encoded_frame= encoder.predict(img[None])[0]\n",
    "        encoded_sequence.append(encoded_frame)\n",
    "\n",
    "    encoded_data.append(encoded_sequence)\n",
    "X_encoded=np.asarray(encoded_data)\n",
    "print(X_encoded.shape)\n",
    "\"\"\"\n",
    "410."
   ]
  },
  {
   "cell_type": "markdown",
   "metadata": {},
   "source": [
    "# Retrieving compressed dataset from file"
   ]
  },
  {
   "cell_type": "code",
   "execution_count": null,
   "metadata": {},
   "outputs": [
    {
     "name": "stdout",
     "output_type": "stream",
     "text": [
      "(7332, 100, 750)\n"
     ]
    }
   ],
   "source": [
    "loaded_arr = np.loadtxt(\"encoded_data_7000_750.txt\")  # you can start working on the code from this line if you don't have access to big computing resources\n",
    "code_size=750\n",
    "# This loadedArr is a 2D array, therefore\n",
    "# we need to convert it to the original\n",
    "# array shape.reshaping to get original\n",
    "# array with original shape.\n",
    "load_original_arr = loaded_arr.reshape(\n",
    "loaded_arr.shape[0], loaded_arr.shape[1] // code_size, code_size) # X_encoded.shape[2], X_encoded.shape[2])\n",
    "\n",
    "X_encoded=load_original_arr\n",
    "print(X_encoded.shape)\n",
    "X_1=X_encoded"
   ]
  },
  {
   "cell_type": "code",
   "execution_count": null,
   "metadata": {},
   "outputs": [],
   "source": [
    "\"\"\"\n",
    "X_encoded_denoised=[]\n",
    "for i in range(X_encoded.shape[0]):    \n",
    "    encoded_sequence=[]\n",
    "    for j in range(X_encoded.shape[1]):\n",
    "        code=X_encoded[i][j]\n",
    "        reco = decoder.predict(code[None])[0]\n",
    "        encoded_frame= denoise_image(denoise_image(reco))\n",
    "        encoded_sequence.append(encoded_frame)\n",
    "\n",
    "    X_encoded_denoised.append(encoded_sequence)\n",
    "X_encoded_denoised=np.asarray(X_encoded_denoised)\n",
    "print(X_encoded_denoised.shape)\n",
    "\"\"\""
   ]
  },
  {
   "cell_type": "code",
   "execution_count": 4,
   "metadata": {},
   "outputs": [
    {
     "name": "stdout",
     "output_type": "stream",
     "text": [
      "(7332, 100, 750)\n"
     ]
    }
   ],
   "source": [
    "# save X_encoded in an independent array (if needed)\n",
    "X_encoded_save=X_encoded[:]\n",
    "X_encoded_save=np.asarray(list(X_encoded))\n",
    "print(X_encoded_save.shape)"
   ]
  },
  {
   "cell_type": "code",
   "execution_count": 19,
   "metadata": {},
   "outputs": [],
   "source": [
    "X_1=X_encoded_save  # X1 is the datest X transformed to the first latent dimension"
   ]
  },
  {
   "cell_type": "markdown",
   "metadata": {},
   "source": [
    "#### reduced dataset (to be more homogenous)"
   ]
  },
  {
   "cell_type": "code",
   "execution_count": 7,
   "metadata": {},
   "outputs": [],
   "source": [
    "import re\n",
    "# https://python.hotexamples.com/fr/examples/features/-/get_features/python-get_features-function-examples.html\n",
    "def get_features(str):\n",
    "    array_str = re.findall(\"[-+]?[.]?[\\d]+(?:,\\d\\d\\d)*[\\.]?\\d*(?:[eE][-+]?\\d+)?\", str) \n",
    "    return np.array(array_str[:-1]).astype(float)\n"
   ]
  },
  {
   "cell_type": "code",
   "execution_count": 8,
   "metadata": {},
   "outputs": [
    {
     "name": "stdout",
     "output_type": "stream",
     "text": [
      "(7332, 100)\n"
     ]
    }
   ],
   "source": [
    "list_names=np.loadtxt ('list_names_7000.txt', dtype=str)  # remind : simulation characteristics\n",
    "print(list_names.shape)"
   ]
  },
  {
   "cell_type": "code",
   "execution_count": 407,
   "metadata": {},
   "outputs": [],
   "source": [
    "from numba import jit  # use to speed up python\n",
    "# could be useful if choose to work with a subset from the global one (e.g. subset containg the set of simulations: (c<=0.65) and (m>=0.8) and (m<=1.25) and (k<=0.35))\n",
    "def reduced_dataset(X_encoded,list_names):\n",
    "    X_encoded_reduced=[]\n",
    "    list_names_reduced=[]\n",
    "    for i in range(X_encoded.shape[0]):    #\n",
    "        encoded_sequence=[]\n",
    "        features= get_features(list_names[i][0])\n",
    "        c,m,k=features[0],features[1],features[2]\n",
    "        #print(c,m,k)\n",
    "        if (c<=0.65) and (m>=0.8) and (m<=1.25) and (k<=0.35):\n",
    "           X_encoded_reduced.append(X_encoded[i])\n",
    "           list_names_reduced.append(list_names[i])\n",
    "    X_encoded_reduced=np.asarray(X_encoded_reduced)\n",
    "    list_names_reduced=np.asarray(list_names_reduced)\n",
    "\n",
    "    return  X_encoded_reduced,list_names_reduced\n"
   ]
  },
  {
   "cell_type": "code",
   "execution_count": 409,
   "metadata": {},
   "outputs": [
    {
     "name": "stdout",
     "output_type": "stream",
     "text": [
      "(695, 100, 750)\n",
      "(695, 100)\n"
     ]
    }
   ],
   "source": [
    "X_1,list_names_reduced=reduced_dataset(X_encoded,list_names)\n",
    "print(X_1.shape)\n",
    "print(list_names_reduced.shape)\n",
    "X_encoded_reduced=X_1[:]\n",
    "X_encoded_reduced=np.asarray(list(X_1))\n"
   ]
  },
  {
   "cell_type": "code",
   "execution_count": 20,
   "metadata": {},
   "outputs": [
    {
     "name": "stdout",
     "output_type": "stream",
     "text": [
      "(733200, 750)\n"
     ]
    }
   ],
   "source": [
    "#X_encoded=X_encoded[:3500]\n",
    "#X_encoded=X_encoded_save\n",
    "#print(X_encoded.shape)\n",
    "N=X_1.shape[0] # 3000 #X_encoded.shape[0]\n",
    "#X_1=X_encoded[:N].reshape(np.prod(X_encoded[:N].shape[:2]),*X_encoded[:N].shape[2:])\n",
    "X_1=X_1[:N].reshape(np.prod(X_1[:N].shape[:2]),*X_1[:N].shape[2:])\n",
    "print(X_1.shape)  # X_1: to 2nd layer of encoder or PCA reduction \n",
    "#print(X_encoded_reduced.shape)"
   ]
  },
  {
   "cell_type": "markdown",
   "metadata": {},
   "source": [
    "### To proceed with X_1 for second dimentionality reduction"
   ]
  },
  {
   "cell_type": "markdown",
   "metadata": {},
   "source": [
    "## minor checks "
   ]
  },
  {
   "cell_type": "code",
   "execution_count": null,
   "metadata": {},
   "outputs": [],
   "source": [
    "code=X_1[np.random.choice(range(len(X_1)))]\n",
    "print(code.max())\n",
    "reco = decoder.predict(code[None])[0]\n",
    "\n",
    "show_image(denoise_image(denoise_image(reco)))\n",
    "plt.title(\"Reconstructed\")\n",
    "plt.show()\n",
    "print(reco.min(), reco.max())\n",
    "\n"
   ]
  },
  {
   "cell_type": "markdown",
   "metadata": {},
   "source": [
    "# Layer 2 ------------------ Encoder Decoder ------------------------------------------\n",
    "---------------------------------------------------------------------------------------"
   ]
  },
  {
   "cell_type": "code",
   "execution_count": 283,
   "metadata": {},
   "outputs": [
    {
     "name": "stdout",
     "output_type": "stream",
     "text": [
      "(62550, 750)\n",
      "(6950, 750)\n",
      "Training Dataset Shapes: (62550, 750), (62550, 750)\n",
      "Validation Dataset Shapes: (6950, 750), (6950, 750)\n"
     ]
    }
   ],
   "source": [
    "from sklearn.model_selection import train_test_split\n",
    "# the use of random_state is to reproduce the same results at each time \n",
    "X_1_train, X_1_test = train_test_split(X_1, test_size=0.1, random_state=42)\n",
    "print(X_1_train.shape)\n",
    "print(X_1_test.shape)\n",
    "\n",
    "\n",
    "scaler= MinMaxScaler(feature_range=(0,1))\n",
    "\n",
    "\n",
    "\n",
    "X_1_train_scaled=scaler.fit_transform(X_1_train)\n",
    "\n",
    "X_1_test_scaled=scaler.transform(X_1_test)\n",
    "\n",
    "\n",
    "# Re-Inspect the dataset.\n",
    "print(\"Training Dataset Shapes: \" + str(X_1_train_scaled.shape) + \", \" + str(X_1_train_scaled.shape))\n",
    "print(\"Validation Dataset Shapes: \" + str(X_1_test_scaled.shape) + \", \" + str(X_1_test_scaled.shape))"
   ]
  },
  {
   "cell_type": "code",
   "execution_count": null,
   "metadata": {},
   "outputs": [],
   "source": [
    "#X_1_train=X_1_train.reshape(np.prod(X_1_train.shape[:2]),*X_1_train.shape[2:])\n",
    "#X_1_test = X_1_test.reshape(np.prod(X_1_test.shape[:2]),*X_1_test.shape[2:])"
   ]
  },
  {
   "cell_type": "code",
   "execution_count": null,
   "metadata": {},
   "outputs": [],
   "source": [
    "# note that X_11 is the reshaped version of X_1\n",
    "\"\"\"\n",
    "X_11_train=X_1_train.reshape(np.prod(X_1_train.shape[:2]),*X_1_train.shape[2:])\n",
    "X_11_test = X_1_test.reshape(np.prod(X_1_test.shape[:2]),*X_1_test.shape[2:])\n",
    "X_11_train_scaled =X_1_train_scaled.reshape(np.prod(X_1_train_scaled.shape[:2]),*X_1_train_scaled.shape[2:])\n",
    "X_11_test_scaled = X_1_test_scaled.reshape(np.prod(X_1_test_scaled.shape[:2]),*X_1_test_scaled.shape[2:])\n",
    "\"\"\""
   ]
  },
  {
   "cell_type": "code",
   "execution_count": 284,
   "metadata": {},
   "outputs": [
    {
     "name": "stdout",
     "output_type": "stream",
     "text": [
      "original: i=  17926 -5.500335216522217 4.139297008514404\n",
      "scaled:  i=  17926 0.0 0.9407889437561023\n"
     ]
    }
   ],
   "source": [
    "i =np.random.choice(range(len(X_1_train_scaled)), size=1)[0]\n",
    "print('original:' ,'i= ',i, X_1_train[i].min(),X_1_train[i].max())\n",
    "print('scaled: ','i= ',i, X_1_train_scaled[i].min(),X_1_train_scaled[i].max())"
   ]
  },
  {
   "cell_type": "markdown",
   "metadata": {},
   "source": [
    "#### Build the second auto-encoder"
   ]
  },
  {
   "cell_type": "code",
   "execution_count": 285,
   "metadata": {},
   "outputs": [],
   "source": [
    "from keras.layers import Dense, Flatten, Reshape, Input, InputLayer\n",
    "from keras.models import Sequential, Model"
   ]
  },
  {
   "cell_type": "code",
   "execution_count": 286,
   "metadata": {},
   "outputs": [],
   "source": [
    "def build_autoencoder_2(img_shape, code_size):\n",
    "    # The encoder\n",
    "    encoder = Sequential()  \n",
    "    encoder.add(InputLayer(img_shape))\n",
    "    encoder.add(Dense(750))\n",
    "    encoder.add(Dense(700))\n",
    "    encoder.add(Dense(650))\n",
    "    encoder.add(Dense(600))\n",
    "    encoder.add(Dense(550))\n",
    "    encoder.add(Dense(500))\n",
    "    encoder.add(Dense(450))\n",
    "    encoder.add(Dense(400))\n",
    "    encoder.add(Dense(350))\n",
    "    encoder.add(Dense(300))\n",
    "    encoder.add(Dense(code_size))\n",
    "\n",
    "    # The decoder\n",
    "    decoder = Sequential()\n",
    "    decoder.add(Dense(code_size))\n",
    "    decoder.add(Dense(300))\n",
    "    decoder.add(Dense(350))\n",
    "    decoder.add(Dense(400))\n",
    "    decoder.add(Dense(450))\n",
    "    decoder.add(Dense(500))\n",
    "    decoder.add(Dense(550))\n",
    "    decoder.add(Dense(600))\n",
    "    decoder.add(Dense(650))\n",
    "    decoder.add(Dense(700))\n",
    "    decoder.add(Dense(750))\n",
    "    decoder.add(Dense(np.prod(img_shape))) \n",
    "    decoder.add(Reshape(img_shape))\n",
    "\n",
    "    return encoder, decoder"
   ]
  },
  {
   "cell_type": "code",
   "execution_count": 288,
   "metadata": {},
   "outputs": [
    {
     "name": "stdout",
     "output_type": "stream",
     "text": [
      "Model: \"model_12\"\n",
      "_________________________________________________________________\n",
      "Layer (type)                 Output Shape              Param #   \n",
      "=================================================================\n",
      "input_15 (InputLayer)        [(None, 750)]             0         \n",
      "_________________________________________________________________\n",
      "sequential_8 (Sequential)    (None, 200)               3252950   \n",
      "_________________________________________________________________\n",
      "sequential_9 (Sequential)    (None, 750)               3293700   \n",
      "=================================================================\n",
      "Total params: 6,546,650\n",
      "Trainable params: 6,546,650\n",
      "Non-trainable params: 0\n",
      "_________________________________________________________________\n",
      "None\n"
     ]
    }
   ],
   "source": [
    "Code_SHAPE =X_1.shape[1:] \n",
    "\n",
    "encoder_2, decoder_2 = build_autoencoder_2(Code_SHAPE, 200)\n",
    "\n",
    "inp = Input(Code_SHAPE)\n",
    "code = encoder_2(inp)\n",
    "reconstruction = decoder_2(code)\n",
    "\n",
    "autoencoder_2 = Model(inp,reconstruction)\n",
    "autoencoder_2.compile(optimizer= 'adamax', loss='mse', metrics=['MSE'])  #binary_crossentropy\n",
    "callbacks = [EarlyStopping(monitor='MSE', min_delta=0, patience=10)]\n",
    "print(autoencoder_2.summary())"
   ]
  },
  {
   "cell_type": "code",
   "execution_count": 296,
   "metadata": {},
   "outputs": [
    {
     "name": "stdout",
     "output_type": "stream",
     "text": [
      "Epoch 1/100\n",
      "6255/6255 [==============================] - 174s 28ms/step - loss: 0.0059 - MSE: 0.0059 - val_loss: 0.0060 - val_MSE: 0.0060\n",
      "Epoch 2/100\n",
      "6255/6255 [==============================] - 181s 29ms/step - loss: 0.0059 - MSE: 0.0059 - val_loss: 0.0058 - val_MSE: 0.0058\n",
      "Epoch 3/100\n",
      "6255/6255 [==============================] - 165s 26ms/step - loss: 0.0058 - MSE: 0.0058 - val_loss: 0.0058 - val_MSE: 0.0058\n",
      "Epoch 4/100\n",
      "6255/6255 [==============================] - 157s 25ms/step - loss: 0.0058 - MSE: 0.0058 - val_loss: 0.0059 - val_MSE: 0.0059\n",
      "Epoch 5/100\n",
      "6255/6255 [==============================] - 156s 25ms/step - loss: 0.0058 - MSE: 0.0058 - val_loss: 0.0058 - val_MSE: 0.0058\n",
      "Epoch 6/100\n",
      "6255/6255 [==============================] - 156s 25ms/step - loss: 0.0058 - MSE: 0.0058 - val_loss: 0.0058 - val_MSE: 0.0058\n",
      "Epoch 7/100\n",
      "6255/6255 [==============================] - 153s 24ms/step - loss: 0.0058 - MSE: 0.0058 - val_loss: 0.0058 - val_MSE: 0.0058\n",
      "Epoch 8/100\n",
      "6255/6255 [==============================] - 153s 24ms/step - loss: 0.0058 - MSE: 0.0058 - val_loss: 0.0058 - val_MSE: 0.0058\n",
      "Epoch 9/100\n",
      "6255/6255 [==============================] - 153s 24ms/step - loss: 0.0058 - MSE: 0.0058 - val_loss: 0.0058 - val_MSE: 0.0058\n",
      "Epoch 10/100\n",
      "6255/6255 [==============================] - 158s 25ms/step - loss: 0.0058 - MSE: 0.0058 - val_loss: 0.0058 - val_MSE: 0.0058\n",
      "Epoch 11/100\n",
      "6255/6255 [==============================] - 159s 25ms/step - loss: 0.0058 - MSE: 0.0058 - val_loss: 0.0058 - val_MSE: 0.0058\n",
      "Epoch 12/100\n",
      "6255/6255 [==============================] - 162s 26ms/step - loss: 0.0057 - MSE: 0.0057 - val_loss: 0.0058 - val_MSE: 0.0058\n",
      "Epoch 13/100\n",
      "6255/6255 [==============================] - 159s 25ms/step - loss: 0.0057 - MSE: 0.0057 - val_loss: 0.0058 - val_MSE: 0.0058\n",
      "Epoch 14/100\n",
      "6255/6255 [==============================] - 156s 25ms/step - loss: 0.0057 - MSE: 0.0057 - val_loss: 0.0058 - val_MSE: 0.0058\n",
      "Epoch 15/100\n",
      "6255/6255 [==============================] - 164s 26ms/step - loss: 0.0057 - MSE: 0.0057 - val_loss: 0.0058 - val_MSE: 0.0058\n",
      "Epoch 16/100\n",
      "6255/6255 [==============================] - 162s 26ms/step - loss: 0.0057 - MSE: 0.0057 - val_loss: 0.0058 - val_MSE: 0.0058\n",
      "Epoch 17/100\n",
      "6255/6255 [==============================] - 159s 25ms/step - loss: 0.0057 - MSE: 0.0057 - val_loss: 0.0057 - val_MSE: 0.0057\n",
      "Epoch 18/100\n",
      "6255/6255 [==============================] - 159s 25ms/step - loss: 0.0057 - MSE: 0.0057 - val_loss: 0.0057 - val_MSE: 0.0057\n",
      "Epoch 19/100\n",
      "6255/6255 [==============================] - 155s 25ms/step - loss: 0.0057 - MSE: 0.0057 - val_loss: 0.0057 - val_MSE: 0.0057\n",
      "Epoch 20/100\n",
      "6255/6255 [==============================] - 155s 25ms/step - loss: 0.0057 - MSE: 0.0057 - val_loss: 0.0058 - val_MSE: 0.0058\n",
      "Epoch 21/100\n",
      "6255/6255 [==============================] - 156s 25ms/step - loss: 0.0057 - MSE: 0.0057 - val_loss: 0.0057 - val_MSE: 0.0057\n",
      "Epoch 22/100\n",
      "6255/6255 [==============================] - 156s 25ms/step - loss: 0.0057 - MSE: 0.0057 - val_loss: 0.0057 - val_MSE: 0.0057\n",
      "Epoch 23/100\n",
      "6255/6255 [==============================] - 154s 25ms/step - loss: 0.0057 - MSE: 0.0057 - val_loss: 0.0057 - val_MSE: 0.0057\n",
      "Epoch 24/100\n",
      "6255/6255 [==============================] - 154s 25ms/step - loss: 0.0057 - MSE: 0.0057 - val_loss: 0.0057 - val_MSE: 0.0057\n",
      "Epoch 25/100\n",
      "6255/6255 [==============================] - 157s 25ms/step - loss: 0.0057 - MSE: 0.0057 - val_loss: 0.0057 - val_MSE: 0.0057\n",
      "Epoch 26/100\n",
      "6255/6255 [==============================] - 155s 25ms/step - loss: 0.0057 - MSE: 0.0057 - val_loss: 0.0057 - val_MSE: 0.0057\n",
      "Epoch 27/100\n",
      "6255/6255 [==============================] - 154s 25ms/step - loss: 0.0057 - MSE: 0.0057 - val_loss: 0.0057 - val_MSE: 0.0057\n",
      "Epoch 28/100\n",
      "6255/6255 [==============================] - 154s 25ms/step - loss: 0.0057 - MSE: 0.0057 - val_loss: 0.0057 - val_MSE: 0.0057\n",
      "Epoch 29/100\n",
      "6255/6255 [==============================] - 157s 25ms/step - loss: 0.0057 - MSE: 0.0057 - val_loss: 0.0058 - val_MSE: 0.0058\n",
      "Epoch 30/100\n",
      "6255/6255 [==============================] - 155s 25ms/step - loss: 0.0057 - MSE: 0.0057 - val_loss: 0.0057 - val_MSE: 0.0057\n",
      "Epoch 31/100\n",
      "6255/6255 [==============================] - 154s 25ms/step - loss: 0.0057 - MSE: 0.0057 - val_loss: 0.0057 - val_MSE: 0.0057\n",
      "Epoch 32/100\n",
      "6255/6255 [==============================] - 156s 25ms/step - loss: 0.0057 - MSE: 0.0057 - val_loss: 0.0058 - val_MSE: 0.0058\n",
      "Epoch 33/100\n",
      "6255/6255 [==============================] - 157s 25ms/step - loss: 0.0056 - MSE: 0.0056 - val_loss: 0.0057 - val_MSE: 0.0057\n",
      "Epoch 34/100\n",
      "6255/6255 [==============================] - 155s 25ms/step - loss: 0.0056 - MSE: 0.0056 - val_loss: 0.0057 - val_MSE: 0.0057\n",
      "Epoch 35/100\n",
      "6255/6255 [==============================] - 154s 25ms/step - loss: 0.0056 - MSE: 0.0056 - val_loss: 0.0057 - val_MSE: 0.0057\n",
      "Epoch 36/100\n",
      "6255/6255 [==============================] - 155s 25ms/step - loss: 0.0056 - MSE: 0.0056 - val_loss: 0.0057 - val_MSE: 0.0057\n",
      "Epoch 37/100\n",
      "6255/6255 [==============================] - 158s 25ms/step - loss: 0.0056 - MSE: 0.0056 - val_loss: 0.0057 - val_MSE: 0.0057\n",
      "Epoch 38/100\n",
      "6255/6255 [==============================] - 154s 25ms/step - loss: 0.0056 - MSE: 0.0056 - val_loss: 0.0057 - val_MSE: 0.0057\n",
      "Epoch 39/100\n",
      "6255/6255 [==============================] - 158s 25ms/step - loss: 0.0056 - MSE: 0.0056 - val_loss: 0.0057 - val_MSE: 0.0057\n",
      "Epoch 40/100\n",
      "6255/6255 [==============================] - 159s 25ms/step - loss: 0.0056 - MSE: 0.0056 - val_loss: 0.0057 - val_MSE: 0.0057\n",
      "Epoch 41/100\n",
      "6255/6255 [==============================] - 160s 26ms/step - loss: 0.0056 - MSE: 0.0056 - val_loss: 0.0057 - val_MSE: 0.0057\n",
      "Epoch 42/100\n",
      "6255/6255 [==============================] - 159s 25ms/step - loss: 0.0056 - MSE: 0.0056 - val_loss: 0.0057 - val_MSE: 0.0057\n",
      "Epoch 43/100\n",
      "6255/6255 [==============================] - 157s 25ms/step - loss: 0.0056 - MSE: 0.0056 - val_loss: 0.0057 - val_MSE: 0.0057\n",
      "Epoch 44/100\n",
      "6255/6255 [==============================] - 161s 26ms/step - loss: 0.0056 - MSE: 0.0056 - val_loss: 0.0057 - val_MSE: 0.0057\n",
      "Epoch 45/100\n",
      "6255/6255 [==============================] - 164s 26ms/step - loss: 0.0056 - MSE: 0.0056 - val_loss: 0.0057 - val_MSE: 0.0057\n",
      "Epoch 46/100\n",
      "6255/6255 [==============================] - 160s 26ms/step - loss: 0.0056 - MSE: 0.0056 - val_loss: 0.0057 - val_MSE: 0.0057\n",
      "Epoch 47/100\n",
      "6255/6255 [==============================] - 160s 25ms/step - loss: 0.0056 - MSE: 0.0056 - val_loss: 0.0057 - val_MSE: 0.0057\n",
      "Epoch 48/100\n",
      "6255/6255 [==============================] - 159s 25ms/step - loss: 0.0056 - MSE: 0.0056 - val_loss: 0.0057 - val_MSE: 0.0057\n",
      "Epoch 49/100\n",
      "6255/6255 [==============================] - 158s 25ms/step - loss: 0.0056 - MSE: 0.0056 - val_loss: 0.0057 - val_MSE: 0.0057\n",
      "Epoch 50/100\n",
      "6255/6255 [==============================] - 158s 25ms/step - loss: 0.0056 - MSE: 0.0056 - val_loss: 0.0056 - val_MSE: 0.0056\n",
      "Epoch 51/100\n",
      "6255/6255 [==============================] - 157s 25ms/step - loss: 0.0056 - MSE: 0.0056 - val_loss: 0.0057 - val_MSE: 0.0057\n",
      "Epoch 52/100\n",
      "6255/6255 [==============================] - 157s 25ms/step - loss: 0.0056 - MSE: 0.0056 - val_loss: 0.0056 - val_MSE: 0.0056\n",
      "Epoch 53/100\n",
      "6255/6255 [==============================] - 154s 25ms/step - loss: 0.0056 - MSE: 0.0056 - val_loss: 0.0057 - val_MSE: 0.0057\n",
      "Epoch 54/100\n",
      "6255/6255 [==============================] - 154s 25ms/step - loss: 0.0056 - MSE: 0.0056 - val_loss: 0.0056 - val_MSE: 0.0056\n",
      "Epoch 55/100\n",
      "6255/6255 [==============================] - 156s 25ms/step - loss: 0.0056 - MSE: 0.0056 - val_loss: 0.0056 - val_MSE: 0.0056\n",
      "Epoch 56/100\n",
      "6255/6255 [==============================] - 157s 25ms/step - loss: 0.0056 - MSE: 0.0056 - val_loss: 0.0057 - val_MSE: 0.0057\n",
      "Epoch 57/100\n",
      "6255/6255 [==============================] - 154s 25ms/step - loss: 0.0056 - MSE: 0.0056 - val_loss: 0.0057 - val_MSE: 0.0057\n",
      "Epoch 58/100\n",
      "6255/6255 [==============================] - 154s 25ms/step - loss: 0.0056 - MSE: 0.0056 - val_loss: 0.0056 - val_MSE: 0.0056\n",
      "Epoch 59/100\n",
      "6255/6255 [==============================] - 156s 25ms/step - loss: 0.0056 - MSE: 0.0056 - val_loss: 0.0057 - val_MSE: 0.0057\n",
      "Epoch 60/100\n",
      "6255/6255 [==============================] - 157s 25ms/step - loss: 0.0056 - MSE: 0.0056 - val_loss: 0.0056 - val_MSE: 0.0056\n",
      "Epoch 61/100\n",
      "6255/6255 [==============================] - 154s 25ms/step - loss: 0.0056 - MSE: 0.0056 - val_loss: 0.0056 - val_MSE: 0.0056\n",
      "Epoch 62/100\n",
      "6255/6255 [==============================] - 154s 25ms/step - loss: 0.0056 - MSE: 0.0056 - val_loss: 0.0056 - val_MSE: 0.0056\n",
      "Epoch 63/100\n",
      "6255/6255 [==============================] - 155s 25ms/step - loss: 0.0056 - MSE: 0.0056 - val_loss: 0.0057 - val_MSE: 0.0057\n",
      "Epoch 64/100\n",
      "6255/6255 [==============================] - 156s 25ms/step - loss: 0.0056 - MSE: 0.0056 - val_loss: 0.0057 - val_MSE: 0.0057\n",
      "Epoch 65/100\n",
      "6255/6255 [==============================] - 154s 25ms/step - loss: 0.0056 - MSE: 0.0056 - val_loss: 0.0056 - val_MSE: 0.0056\n",
      "Epoch 66/100\n",
      "6255/6255 [==============================] - 154s 25ms/step - loss: 0.0056 - MSE: 0.0056 - val_loss: 0.0056 - val_MSE: 0.0056\n",
      "Epoch 67/100\n",
      "6255/6255 [==============================] - 156s 25ms/step - loss: 0.0056 - MSE: 0.0056 - val_loss: 0.0056 - val_MSE: 0.0056\n",
      "Epoch 68/100\n",
      "6255/6255 [==============================] - 156s 25ms/step - loss: 0.0056 - MSE: 0.0056 - val_loss: 0.0056 - val_MSE: 0.0056\n",
      "Epoch 69/100\n",
      "6255/6255 [==============================] - 161s 26ms/step - loss: 0.0056 - MSE: 0.0056 - val_loss: 0.0057 - val_MSE: 0.0057\n",
      "Epoch 70/100\n",
      "6255/6255 [==============================] - 158s 25ms/step - loss: 0.0056 - MSE: 0.0056 - val_loss: 0.0056 - val_MSE: 0.0056\n",
      "Epoch 71/100\n",
      "6255/6255 [==============================] - 162s 26ms/step - loss: 0.0056 - MSE: 0.0056 - val_loss: 0.0056 - val_MSE: 0.0056\n",
      "Epoch 72/100\n",
      "6255/6255 [==============================] - 156s 25ms/step - loss: 0.0056 - MSE: 0.0056 - val_loss: 0.0056 - val_MSE: 0.0056\n",
      "Epoch 73/100\n",
      "6255/6255 [==============================] - 161s 26ms/step - loss: 0.0056 - MSE: 0.0056 - val_loss: 0.0056 - val_MSE: 0.0056\n",
      "Epoch 74/100\n",
      "6255/6255 [==============================] - 164s 26ms/step - loss: 0.0056 - MSE: 0.0056 - val_loss: 0.0056 - val_MSE: 0.0056\n",
      "Epoch 75/100\n",
      "6255/6255 [==============================] - 161s 26ms/step - loss: 0.0056 - MSE: 0.0056 - val_loss: 0.0056 - val_MSE: 0.0056\n",
      "Epoch 76/100\n",
      "6255/6255 [==============================] - 159s 25ms/step - loss: 0.0056 - MSE: 0.0056 - val_loss: 0.0056 - val_MSE: 0.0056\n",
      "Epoch 77/100\n",
      "6255/6255 [==============================] - 158s 25ms/step - loss: 0.0056 - MSE: 0.0056 - val_loss: 0.0056 - val_MSE: 0.0056\n",
      "Epoch 78/100\n",
      "6255/6255 [==============================] - 159s 25ms/step - loss: 0.0056 - MSE: 0.0056 - val_loss: 0.0056 - val_MSE: 0.0056\n",
      "Epoch 79/100\n",
      "6255/6255 [==============================] - 159s 25ms/step - loss: 0.0056 - MSE: 0.0056 - val_loss: 0.0056 - val_MSE: 0.0056\n",
      "Epoch 80/100\n",
      "6255/6255 [==============================] - 156s 25ms/step - loss: 0.0056 - MSE: 0.0056 - val_loss: 0.0056 - val_MSE: 0.0056\n",
      "Epoch 81/100\n",
      "6255/6255 [==============================] - 154s 25ms/step - loss: 0.0056 - MSE: 0.0056 - val_loss: 0.0057 - val_MSE: 0.0057\n",
      "Epoch 82/100\n",
      "6255/6255 [==============================] - 157s 25ms/step - loss: 0.0056 - MSE: 0.0056 - val_loss: 0.0056 - val_MSE: 0.0056\n",
      "Epoch 83/100\n",
      "6255/6255 [==============================] - 156s 25ms/step - loss: 0.0056 - MSE: 0.0056 - val_loss: 0.0057 - val_MSE: 0.0057\n",
      "Epoch 84/100\n",
      "6255/6255 [==============================] - 154s 25ms/step - loss: 0.0056 - MSE: 0.0056 - val_loss: 0.0056 - val_MSE: 0.0056\n",
      "Epoch 85/100\n",
      "6255/6255 [==============================] - 154s 25ms/step - loss: 0.0056 - MSE: 0.0056 - val_loss: 0.0056 - val_MSE: 0.0056\n",
      "Epoch 86/100\n",
      "6255/6255 [==============================] - 156s 25ms/step - loss: 0.0056 - MSE: 0.0056 - val_loss: 0.0056 - val_MSE: 0.0056\n",
      "Epoch 87/100\n",
      "6255/6255 [==============================] - 156s 25ms/step - loss: 0.0056 - MSE: 0.0056 - val_loss: 0.0056 - val_MSE: 0.0056\n",
      "Epoch 88/100\n",
      "6255/6255 [==============================] - 154s 25ms/step - loss: 0.0056 - MSE: 0.0056 - val_loss: 0.0056 - val_MSE: 0.0056\n",
      "Epoch 89/100\n",
      "6255/6255 [==============================] - 155s 25ms/step - loss: 0.0056 - MSE: 0.0056 - val_loss: 0.0056 - val_MSE: 0.0056\n",
      "Epoch 90/100\n",
      "6255/6255 [==============================] - 156s 25ms/step - loss: 0.0056 - MSE: 0.0056 - val_loss: 0.0056 - val_MSE: 0.0056\n",
      "Epoch 91/100\n",
      "6255/6255 [==============================] - 155s 25ms/step - loss: 0.0056 - MSE: 0.0056 - val_loss: 0.0056 - val_MSE: 0.0056\n",
      "Epoch 92/100\n",
      "6255/6255 [==============================] - 154s 25ms/step - loss: 0.0056 - MSE: 0.0056 - val_loss: 0.0056 - val_MSE: 0.0056\n",
      "Epoch 93/100\n",
      "6255/6255 [==============================] - 154s 25ms/step - loss: 0.0056 - MSE: 0.0056 - val_loss: 0.0056 - val_MSE: 0.0056\n",
      "Epoch 94/100\n",
      "6255/6255 [==============================] - 158s 25ms/step - loss: 0.0056 - MSE: 0.0056 - val_loss: 0.0056 - val_MSE: 0.0056\n",
      "Epoch 95/100\n",
      "6255/6255 [==============================] - 156s 25ms/step - loss: 0.0056 - MSE: 0.0056 - val_loss: 0.0056 - val_MSE: 0.0056\n",
      "Epoch 96/100\n",
      "6255/6255 [==============================] - 155s 25ms/step - loss: 0.0056 - MSE: 0.0056 - val_loss: 0.0056 - val_MSE: 0.0056\n",
      "Epoch 97/100\n",
      "6255/6255 [==============================] - 154s 25ms/step - loss: 0.0056 - MSE: 0.0056 - val_loss: 0.0056 - val_MSE: 0.0056\n",
      "Epoch 98/100\n",
      "6255/6255 [==============================] - 160s 26ms/step - loss: 0.0056 - MSE: 0.0056 - val_loss: 0.0056 - val_MSE: 0.0056\n",
      "Epoch 99/100\n",
      "6255/6255 [==============================] - 159s 25ms/step - loss: 0.0056 - MSE: 0.0056 - val_loss: 0.0056 - val_MSE: 0.0056\n",
      "Epoch 100/100\n",
      "6255/6255 [==============================] - 162s 26ms/step - loss: 0.0056 - MSE: 0.0056 - val_loss: 0.0056 - val_MSE: 0.0056\n"
     ]
    }
   ],
   "source": [
    "history = autoencoder_2.fit(X_1_train_scaled, X_1_train_scaled,\n",
    "                epochs=100,\n",
    "                batch_size=10                , \n",
    "                shuffle=True,\n",
    "                validation_data=(X_1_test_scaled, X_1_test_scaled))  #callbacks=[model_checkpoint]"
   ]
  },
  {
   "cell_type": "code",
   "execution_count": null,
   "metadata": {},
   "outputs": [
    {
     "name": "stdout",
     "output_type": "stream",
     "text": [
      "WARNING:tensorflow:Compiled the loaded model, but the compiled metrics have yet to be built. `model.compile_metrics` will be empty until you train or evaluate the model.\n",
      "WARNING:tensorflow:Compiled the loaded model, but the compiled metrics have yet to be built. `model.compile_metrics` will be empty until you train or evaluate the model.\n"
     ]
    }
   ],
   "source": [
    "encoder_2.save('encoder_7000_750_250.h5')\n",
    "decoder_2.save('decoder_7000_750_250.h5')\n"
   ]
  },
  {
   "cell_type": "code",
   "execution_count": null,
   "metadata": {},
   "outputs": [
    {
     "name": "stdout",
     "output_type": "stream",
     "text": [
      "WARNING:tensorflow:No training configuration found in the save file, so the model was *not* compiled. Compile it manually.\n",
      "WARNING:tensorflow:No training configuration found in the save file, so the model was *not* compiled. Compile it manually.\n"
     ]
    }
   ],
   "source": [
    "from keras.models import load_model\n",
    "save_dir=os.path.join(os.getcwd(), 'saved_computed_models\\\\')\n",
    " \n",
    "#encoder_decoder = load_model(save_dir+model_name)\n",
    "encoder_2= load_model(save_dir+'encoder_7000_750_250.h5')\n",
    "decoder_2= load_model(save_dir+'decoder_7000_750_250.h5')\n"
   ]
  },
  {
   "cell_type": "code",
   "execution_count": null,
   "metadata": {},
   "outputs": [
    {
     "name": "stdout",
     "output_type": "stream",
     "text": [
      "(7332, 100, 750)\n",
      "(7332, 100, 750)\n"
     ]
    }
   ],
   "source": [
    "X_encoded_reduced=X_encoded_save\n",
    "print(X_encoded_reduced.shape)\n",
    "print(X_encoded_save.shape)"
   ]
  },
  {
   "cell_type": "code",
   "execution_count": null,
   "metadata": {},
   "outputs": [],
   "source": [
    "X_encoded_reduced=X_encoded"
   ]
  },
  {
   "cell_type": "markdown",
   "metadata": {},
   "source": [
    "### Evaluate the second auto-encoder"
   ]
  },
  {
   "cell_type": "code",
   "execution_count": null,
   "metadata": {},
   "outputs": [],
   "source": [
    "index1= np.random.choice(range(len(X_encoded_reduced)), size=1)[0]\n",
    "index2= np.random.choice(range(X_encoded_reduced.shape[1]), size=1)[0]\n",
    "print(index1,index2)\n",
    "\n",
    "print(X_encoded_reduced.shape)\n",
    "\n",
    "code_1=X_1.reshape(X_encoded_reduced.shape)[index1][index2]\n",
    "print(code_1.shape)\n",
    "# recode => original shape\n",
    "img = decoder.predict(code_1[None])[0]\n",
    "\n",
    "#plt.subplot(1,3,1)\n",
    "\"\"\"\n",
    "plt.title(\"original\")\n",
    "plt.imshow(dataset[index1][index2])\n",
    "plt.axis('off')\n",
    "plt.show()\n",
    "#plt.subplot(1,3,2)\n",
    "\"\"\"\n",
    "show_image(denoise_image(denoise_image(img)))\n",
    "plt.axis('off')\n",
    "plt.title(\"Reconstructed -1 Layer\")\n",
    "plt.show()\n",
    "print('original shape', img.shape)\n",
    "print('code_1.shape', code_1.shape)\n",
    "print('code_1.max',code_1.max())\n",
    "\n",
    "\n",
    "code_2= encoder_2.predict(code_1[None])[0]\n",
    "print('code_2.shape ',code_2.shape)\n",
    "#code_2=scaler.inverse_transform(code_2.reshape(code_2.shape[0],1))\n",
    "code_1_bis = decoder_2.predict(code_2[None])[0]\n",
    "code_1_bis = decoder_2.predict(code_2[None])[0]\n",
    "print('code_1_bis.shape ',code_1_bis.shape)\n",
    "\n",
    "\n",
    "img_1=decoder.predict(code_1_bis[None])[0]\n",
    "\n",
    "#plt.subplot(1,3,3)\n",
    "\n",
    "img_1_denoised=denoise_image(denoise_image(img_1))\n",
    "show_image(img_1_denoised )\n",
    "plt.axis('off')\n",
    "plt.title(\"Reconstructed -2 Layers\")\n",
    "print('img_1.shape ',img_1.shape)\n",
    "\n",
    "\n",
    "plt.show()"
   ]
  },
  {
   "cell_type": "markdown",
   "metadata": {},
   "source": [
    "## Encoded dataset 2"
   ]
  },
  {
   "cell_type": "code",
   "execution_count": null,
   "metadata": {},
   "outputs": [
    {
     "data": {
      "text/plain": [
       "'\\nencoded_data_2=[]\\nX_1=X_1.reshape(X_encoded.shape)\\nfor i in range(X_encoded.shape[0]):  \\n    encoded_sequence=[]\\n    for j in range(X_encoded.shape[1]):\\n        code=X_1[i][j]\\n        encoded_frame= encoder_2.predict(code[None])[0]\\n        encoded_sequence.append(encoded_frame)\\n\\n    encoded_data_2.append(encoded_sequence)\\nX_encoded_2=np.asarray(encoded_data_2)\\nX_2=X_encoded_2\\nprint(X_2.shape)\\n'"
      ]
     },
     "execution_count": 52,
     "metadata": {},
     "output_type": "execute_result"
    }
   ],
   "source": [
    "\"\"\"\n",
    "encoded_data_2=[]\n",
    "X_1=X_1.reshape(X_encoded.shape)\n",
    "for i in range(X_encoded.shape[0]):  \n",
    "    encoded_sequence=[]\n",
    "    for j in range(X_encoded.shape[1]):\n",
    "        code=X_1[i][j]\n",
    "        encoded_frame= encoder_2.predict(code[None])[0]\n",
    "        encoded_sequence.append(encoded_frame)\n",
    "\n",
    "    encoded_data_2.append(encoded_sequence)\n",
    "X_encoded_2=np.asarray(encoded_data_2)\n",
    "X_2=X_encoded_2\n",
    "print(X_2.shape)\n",
    "\"\"\""
   ]
  },
  {
   "cell_type": "markdown",
   "metadata": {},
   "source": [
    "#### small test"
   ]
  },
  {
   "cell_type": "code",
   "execution_count": null,
   "metadata": {},
   "outputs": [],
   "source": [
    "code_2=X_encoded_2[np.random.choice(range(X_encoded_2.shape[0]), size=1)[0]][np.random.choice(range(X_encoded_2.shape[1]), size=1)[0]]\n",
    "print(code_2.shape)\n",
    "code_1=decoder_2.predict(code_2[None])[0]\n",
    "img=decoder.predict(code_1[None])[0]\n",
    "show_image(denoise_image(denoise_image(img)) )\n"
   ]
  },
  {
   "cell_type": "markdown",
   "metadata": {},
   "source": [
    "#### save your image in a .txt file"
   ]
  },
  {
   "cell_type": "code",
   "execution_count": null,
   "metadata": {},
   "outputs": [],
   "source": [
    "a_file = open(\"c1_save.txt\", \"w\")\n",
    "for row in img_1_denoised[:, :, 0]:\n",
    "    np.savetxt(a_file, row)\n",
    "\n",
    "a_file.close()"
   ]
  },
  {
   "cell_type": "markdown",
   "metadata": {},
   "source": [
    "## save the encoded data set in a txt file"
   ]
  },
  {
   "cell_type": "code",
   "execution_count": null,
   "metadata": {},
   "outputs": [],
   "source": [
    "# reshaping the array from 3D\n",
    "# matrice to 2D matrice.\n",
    "X_2_reshaped = X_2.reshape(X_2.shape[0], -1)\n",
    "  \n",
    "# saving reshaped array to file.\n",
    "np.savetxt(\"encoded_data_7000_500_250.txt\", X_2_reshaped)"
   ]
  },
  {
   "cell_type": "markdown",
   "metadata": {},
   "source": [
    "# Retrieving compressed data from file"
   ]
  },
  {
   "cell_type": "code",
   "execution_count": null,
   "metadata": {},
   "outputs": [
    {
     "name": "stdout",
     "output_type": "stream",
     "text": [
      "(7332, 100, 250)\n"
     ]
    }
   ],
   "source": [
    "loaded_arr = np.loadtxt(\"encoded_data_7000_500_250.txt\")  ## ==> RNNs \n",
    "code_size=250\n",
    "# This loadedArr is a 2D array, therefore\n",
    "# we need to convert it to the original\n",
    "# array shape.reshaping to get original\n",
    "# array with original shape.\n",
    "load_original_arr = loaded_arr.reshape(\n",
    "loaded_arr.shape[0], loaded_arr.shape[1] // code_size, code_size) # X_encoded.shape[2], X_encoded.shape[2])\n",
    "\n",
    "X_encoded_2=load_original_arr\n",
    "print(X_encoded_2.shape)\n",
    "X_2=X_encoded_2"
   ]
  },
  {
   "cell_type": "markdown",
   "metadata": {},
   "source": [
    "# Principal Compoenent Analysis (PCA) dimensionality reduction --------------------------------------------------------"
   ]
  },
  {
   "cell_type": "markdown",
   "metadata": {},
   "source": [
    "#### Scaling"
   ]
  },
  {
   "cell_type": "code",
   "execution_count": 35,
   "metadata": {},
   "outputs": [
    {
     "data": {
      "text/plain": [
       "<function sklearn.preprocessing._data.PowerTransformer.inverse_transform(self, X)>"
      ]
     },
     "execution_count": 35,
     "metadata": {},
     "output_type": "execute_result"
    }
   ],
   "source": [
    "import joblib\n",
    "from sklearn.preprocessing import RobustScaler\n",
    "from sklearn.preprocessing import Normalizer\n",
    "from sklearn.preprocessing import QuantileTransformer\n",
    "from sklearn.preprocessing import PowerTransformer\n",
    "PowerTransformer.inverse_transform"
   ]
  },
  {
   "cell_type": "code",
   "execution_count": 278,
   "metadata": {},
   "outputs": [],
   "source": [
    "# first approach fo scaling : serial scaling\n",
    "def get_normalized_array(data,scaler):\n",
    "    m=data.shape[0]\n",
    "    data_scaled=[]\n",
    "    for i in range(m):  \n",
    "        x=data[i]\n",
    "        x = np.round(x,20)\n",
    "        x=x.reshape(len(x), 1)\n",
    "        #x_scaled=scaler.transform(x)\n",
    "        scaler=scaler.fit(x.reshape(len(x), 1))\n",
    "        scaler_filename = \"scaler\"+str(i)+\".save\"\n",
    "        joblib.dump(scaler, os.path.join(\"scalers\", scaler_filename)) \n",
    "        x_scaled=scaler.transform(x)\n",
    "        x_scaled=np.squeeze(x_scaled, axis=1)\n",
    "        x_scaled = np.round(x_scaled,20)\n",
    "        data_scaled.append(x_scaled)\n",
    "    return np.asarray(data_scaled)"
   ]
  },
  {
   "cell_type": "code",
   "execution_count": 279,
   "metadata": {},
   "outputs": [],
   "source": [
    "# first approach fo inverse scaling : serial\n",
    "def get_rescaled_array(data):\n",
    "    m=data.shape[0]\n",
    "    data_rescaled=[]\n",
    "    for i in range(m):  \n",
    "        x=data[i]\n",
    "        x = np.round(x,20)\n",
    "        x = x.reshape(len(x), 1)\n",
    "        scaler_filename = \"scaler\"+str(i)+\".save\"\n",
    "        scaler = joblib.load(os.path.join(\"scalers\", scaler_filename)) \n",
    "        x_rescaled=scaler.inverse_transform(x)\n",
    "        x_rescaled=np.squeeze(x_rescaled, axis=1)\n",
    "        x_rescaled = np.round(x_rescaled,20)\n",
    "        data_rescaled.append(x_rescaled)\n",
    "    return np.asarray(data_rescaled)"
   ]
  },
  {
   "cell_type": "markdown",
   "metadata": {},
   "source": [
    "#### Scaling"
   ]
  },
  {
   "cell_type": "code",
   "execution_count": 392,
   "metadata": {},
   "outputs": [],
   "source": [
    "scaler=MinMaxScaler(feature_range=(-1,1)) #StandardScaler()    # StandardScaler() #"
   ]
  },
  {
   "cell_type": "code",
   "execution_count": 393,
   "metadata": {},
   "outputs": [
    {
     "name": "stdout",
     "output_type": "stream",
     "text": [
      "-1.0 1.0000000000000002\n"
     ]
    }
   ],
   "source": [
    "\"\"\"\n",
    "Choose which scaling method you want to try \n",
    "\n",
    "from sklearn.preprocessing import scale,StandardScaler,minmax_scale\n",
    "from sklearn.decomposition import FastICA\n",
    "#scaler= MinMaxScaler(feature_range=(0,1)) \n",
    "scaler= StandardScaler()\n",
    "#scaler=PowerTransformer(method='yeo-johnson', standardize=True)\n",
    "#scaler=RobustScaler()\n",
    "#scaler=minmax_scale()\n",
    "\n",
    "\n",
    "scaler = scaler.fit(X_1)\n",
    "X_1_scaled = scaler.fit_transform(X_1)\n",
    "\n",
    "#X_1_scaled=(X_1 - X_1.min())/(X_1.max() - X_1.min())\n",
    "#X_1_scaled,scaler=get_normalized_array(X_1,scaler)                                                      \n",
    "                                                      \n",
    "print(X_1_scaled.shape) \n",
    "\"\"\"\n",
    "X_1_scaled=get_normalized_array(X_1[:],scaler) \n",
    "\n",
    "X_1_scaled = scaler.fit_transform(X_1)\n",
    "print(X_1_scaled.min(),X_1_scaled.max())"
   ]
  },
  {
   "cell_type": "markdown",
   "metadata": {},
   "source": [
    "#### Re-Scaling"
   ]
  },
  {
   "cell_type": "code",
   "execution_count": 394,
   "metadata": {},
   "outputs": [],
   "source": [
    "X_1_rescaled=get_rescaled_array(X_1_scaled)\n",
    "                           \n",
    "#X_1_rescaled= scaler.inverse_transform(X_1_scaled)\n",
    "#X_1_rescaled=  (X_1.max() - X_1.min())*X_1_scaled+X_1.min()\n"
   ]
  },
  {
   "cell_type": "markdown",
   "metadata": {},
   "source": [
    "#### Checks (shapes)"
   ]
  },
  {
   "cell_type": "code",
   "execution_count": 395,
   "metadata": {},
   "outputs": [
    {
     "name": "stdout",
     "output_type": "stream",
     "text": [
      "X_1.shape : (733200, 750) X_1_scaled.shape : (733200, 750)  X_1_rescaled.shape:  (733200, 750)\n",
      "-23.208711624145508 13.33464241027832\n",
      "-1.0 1.0000000000000002\n",
      "-23.208711624145508 13.334642410278319\n"
     ]
    }
   ],
   "source": [
    "print('X_1.shape :',X_1.shape,'X_1_scaled.shape :',X_1_scaled.shape,' X_1_rescaled.shape: ' ,X_1_rescaled.shape)\n",
    "print(X_1[:].min(),X_1[:].max())\n",
    "print(X_1_scaled.min(),X_1_scaled.max())\n",
    "print(X_1_rescaled.min(),X_1_rescaled.max())"
   ]
  },
  {
   "cell_type": "markdown",
   "metadata": {},
   "source": [
    "#### PCA decomposition"
   ]
  },
  {
   "cell_type": "code",
   "execution_count": 396,
   "metadata": {},
   "outputs": [
    {
     "name": "stdout",
     "output_type": "stream",
     "text": [
      "(733200, 250)\n"
     ]
    }
   ],
   "source": [
    "from sklearn.decomposition import PCA\n",
    "from sklearn.preprocessing import StandardScaler\n",
    "pca = PCA(n_components=250 ) # \n",
    "X_1_pca=pca.fit_transform(X_1_scaled[:])   # X_1_scaled[:]\n",
    "\n",
    "print(X_1_pca.shape) \n"
   ]
  },
  {
   "cell_type": "markdown",
   "metadata": {},
   "source": [
    "#### data visualization ==> could be useful to see how biased is the dataset for example"
   ]
  },
  {
   "cell_type": "code",
   "execution_count": 332,
   "metadata": {},
   "outputs": [
    {
     "data": {
      "text/plain": [
       "(array([[   0.,    0.,    0., ...,  325.,    0.,    0.],\n",
       "        [   0.,    0.,    0., ...,  255.,    0.,    0.],\n",
       "        [   0.,    0.,    0., ...,  289.,    0.,    0.],\n",
       "        ...,\n",
       "        [   0.,    0.,    0., ..., 1106.,    2.,    0.],\n",
       "        [   0.,    0.,    0., ...,  593.,    0.,    0.],\n",
       "        [   0.,    0.,    0., ...,  434.,    0.,    0.]]),\n",
       " array([-22.58154678, -19.02999048, -15.47843418, -11.92687788,\n",
       "         -8.37532158,  -4.82376528,  -1.27220898,   2.27934732,\n",
       "          5.83090363,   9.38245993,  12.93401623]),\n",
       " <a list of 750 BarContainer objects>)"
      ]
     },
     "execution_count": 332,
     "metadata": {},
     "output_type": "execute_result"
    },
    {
     "data": {
      "image/png": "[encoded data removed]",
      "text/plain": [
       "<Figure size 864x288 with 1 Axes>"
      ]
     },
     "metadata": {
      "needs_background": "light"
     },
     "output_type": "display_data"
    }
   ],
   "source": [
    "fig, ax = plt.subplots(figsize=(12, 4))\n",
    "ax.hist(X_1[:,])  "
   ]
  },
  {
   "cell_type": "code",
   "execution_count": 397,
   "metadata": {},
   "outputs": [
    {
     "data": {
      "text/plain": [
       "(array([ 83461., 127019.,  78904.,  54384.,  44193.,  52262.,  47783.,\n",
       "         58298.,  92524.,  94372.]),\n",
       " array([-1.72747083, -1.36957522, -1.0116796 , -0.65378399, -0.29588837,\n",
       "         0.06200725,  0.41990286,  0.77779848,  1.13569409,  1.49358971,\n",
       "         1.85148533]),\n",
       " <BarContainer object of 10 artists>)"
      ]
     },
     "execution_count": 397,
     "metadata": {},
     "output_type": "execute_result"
    },
    {
     "data": {
      "image/png": "[encoded data removed]",
      "text/plain": [
       "<Figure size 864x288 with 1 Axes>"
      ]
     },
     "metadata": {
      "needs_background": "light"
     },
     "output_type": "display_data"
    }
   ],
   "source": [
    "fig, ax = plt.subplots(figsize=(12, 4))\n",
    "ax.hist(X_1_pca[:,0]) "
   ]
  },
  {
   "cell_type": "markdown",
   "metadata": {},
   "source": [
    "## Explained variance"
   ]
  },
  {
   "cell_type": "code",
   "execution_count": null,
   "metadata": {},
   "outputs": [],
   "source": [
    "plt.grid()\n",
    "plt.xlabel('Number of components')\n",
    "plt.ylabel('Explained variance')\n",
    "plt.plot(np.cumsum(pca. explained_variance_ratio_ * 100))"
   ]
  },
  {
   "cell_type": "markdown",
   "metadata": {},
   "source": [
    "### Recovering and rescaling"
   ]
  },
  {
   "cell_type": "code",
   "execution_count": 400,
   "metadata": {},
   "outputs": [],
   "source": [
    "X_1_pca_recov_scaled=pca.inverse_transform(X_1_pca)\n",
    "#X_1_pca_recov=scaler.inverse_transform(X_1_pca_recov_scaled)"
   ]
  },
  {
   "cell_type": "code",
   "execution_count": 401,
   "metadata": {},
   "outputs": [],
   "source": [
    "X_1_pca_recov=get_rescaled_array(X_1_pca_recov_scaled)\n",
    "#X_1_pca_recov=scaler.inverse_transform(X_1_pca_recov_scaled)"
   ]
  },
  {
   "cell_type": "code",
   "execution_count": 402,
   "metadata": {},
   "outputs": [
    {
     "name": "stdout",
     "output_type": "stream",
     "text": [
      "(733200, 750) -23.208711624145508 13.33464241027832\n",
      "(733200, 250) -1.914188665002143 2.1047205898593764\n",
      "(733200, 750) -23.569156270885617 13.805372989824011\n"
     ]
    }
   ],
   "source": [
    "print(X_1[:].shape, X_1[:].min(),X_1[:].max())\n",
    "print(X_1_pca.shape,X_1_pca.min(),X_1_pca.max())\n",
    "print(X_1_pca_recov.shape, X_1_pca_recov.min(),X_1_pca_recov.max())"
   ]
  },
  {
   "cell_type": "markdown",
   "metadata": {},
   "source": [
    "## sensitivity analysis"
   ]
  },
  {
   "cell_type": "markdown",
   "metadata": {},
   "source": [
    "### Predictions using PCA"
   ]
  },
  {
   "cell_type": "code",
   "execution_count": null,
   "metadata": {},
   "outputs": [],
   "source": [
    "index_1= np.random.choice(range(len(X_encoded_reduced[:N])), size=1)[0]\n",
    "index_2= np.random.choice(range(X_encoded_reduced[:N].shape[1]), size=1)[0]\n",
    "\n",
    "\n",
    "print('(index 1,index 2): ',index_1,index_2)\n",
    "\n",
    "code_1=X_1.reshape(X_encoded_reduced[:N].shape)[index_1][index_2]\n",
    "print('code_1.shape',code_1.shape)\n",
    "# recode => original shape\n",
    "img = decoder.predict(code_1[None])[0]\n",
    "\"\"\"\n",
    "#plt.subplot(1,3,1)\n",
    "plt.title(\"original\")\n",
    "plt.imshow(dataset[index_1][index_2])\n",
    "plt.axis('off')\n",
    "plt.show()\n",
    "#plt.subplot(1,3,2)\n",
    "\"\"\"\n",
    "\n",
    "show_image(denoise_image(denoise_image(img)))\n",
    "plt.axis('off')\n",
    "plt.title(\"Reconstructed -1 Layer\")\n",
    "plt.show()\n",
    "print('original shape', img.shape)\n",
    "print('code_1.shape', code_1.shape)\n",
    "print('code_1.max',code_1.max())\n",
    "print('X_1_pca.shape',X_1_pca.shape)\n",
    "\n",
    "\n",
    "\"\"\"\n",
    "code_2=pca.transform(code_1.reshape(code_1.shape[0], 1))[1]\n",
    "scaler_filename = \"scaler\"+str(index_2)+\".save\"\n",
    "scaler = joblib.load(os.path.join(\"scalers\", scaler_filename)) \n",
    "code_2=code_2.reshape(code_2.shape[0], 1)\n",
    "code_2=scaler.inverse_transform(code_2)\n",
    "code_2=np.squeeze(code_2, axis=1)\n",
    "\"\"\"\n",
    "\n",
    "#code_2= X_1_pca.reshape(X_encoded.shape[0],X_encoded.shape[1] ,X_1_pca.shape[1])[index_1][index_2]  # code 2 will be used in LSTM \n",
    "\n",
    "\n",
    "#print('code_2.shape',code_2.shape)\n",
    "\n",
    "\n",
    "#code_1_recov=pca.inverse_transform(code_2) # \n",
    "\n",
    "code_1_recov=X_1_pca_recov.reshape(X_encoded_reduced[:N].shape)[index_1][index_2]\n",
    "\n",
    "#print('code_1_recov.shape before rescale: ',code_1_recov.shape)\n",
    "\n",
    "#print('code_1_recov.max() before rescale: ',code_1_recov.max())\n",
    "\n",
    "\n",
    "#code_1_recov=code_1_recov.reshape(code_1_recov.shape[0], 1)\n",
    "# scaler = scaler.fit(code_1_recov) \n",
    "#scaler=scaler.fit(X_1[-1].reshape(len(X_1[-1]), 1))\n",
    "#code_1_recov=scaler.inverse_transform(code_1_recov)                           \n",
    "#code_1_recov=np.squeeze(code_1_recov, axis=1)\n",
    "\n",
    "\n",
    "\n",
    "print('code_1_recov.max() : ',code_1_recov.max())\n",
    "\n",
    "\n",
    "img_1=decoder.predict(code_1_recov[None])[0]\n",
    "img_1[np.where(img_1 <= 1e-30)]=0.000005  \n",
    "\n",
    "#plt.subplot(1,3,3)\n",
    "\n",
    "img_1_denoised=denoise_image(denoise_image(img_1))\n",
    "show_image(img_1)\n",
    "plt.axis('off')\n",
    "plt.title(\"Reconstructed -2 Layers\")\n",
    "print('img_1.shape ',img_1.shape)\n",
    "\n",
    "\n",
    "plt.show()"
   ]
  },
  {
   "cell_type": "markdown",
   "metadata": {},
   "source": [
    "### save X_1_pca in a text file as well as X_1_pca_recov"
   ]
  },
  {
   "cell_type": "code",
   "execution_count": null,
   "metadata": {},
   "outputs": [],
   "source": [
    "np.savetxt('X_1_pca.txt',X_1_pca)"
   ]
  },
  {
   "cell_type": "code",
   "execution_count": null,
   "metadata": {},
   "outputs": [
    {
     "data": {
      "text/plain": [
       "(733200, 250)"
      ]
     },
     "execution_count": 31,
     "metadata": {},
     "output_type": "execute_result"
    }
   ],
   "source": [
    "X_1_pca=np.loadtxt('X_1_pca.txt')\n",
    "X_1_pca.shape"
   ]
  },
  {
   "cell_type": "markdown",
   "metadata": {},
   "source": [
    "# LSTM model --------------------------------------------------------------------------------------------"
   ]
  },
  {
   "cell_type": "markdown",
   "metadata": {},
   "source": [
    "Some line codes and function are copied or inspired from\n",
    "https://keras.io/examples/vision/conv_lstm/\n",
    "\n",
    "https://www.kaggle.com/code/drscarlat/next-frame-video-prediction-keras/notebook"
   ]
  },
  {
   "cell_type": "markdown",
   "metadata": {},
   "source": [
    "## Prepare the new data : each image is represented by : \n",
    "### the main features of the simulation: concentration, mobililty , gradient coefficient\n",
    "### the encoded array "
   ]
  },
  {
   "cell_type": "code",
   "execution_count": 80,
   "metadata": {},
   "outputs": [
    {
     "name": "stdout",
     "output_type": "stream",
     "text": [
      "(7332, 100, 250)\n"
     ]
    }
   ],
   "source": [
    "X_2=X_1_pca.reshape(X_encoded[:N].shape[0],X_encoded[:N].shape[1] ,X_1_pca.shape[1])\n",
    "print(X_2.shape)"
   ]
  },
  {
   "cell_type": "code",
   "execution_count": null,
   "metadata": {},
   "outputs": [],
   "source": [
    "X_new= X2"
   ]
  },
  {
   "cell_type": "markdown",
   "metadata": {},
   "source": [
    "## Split Data into Train and Validation datasets"
   ]
  },
  {
   "cell_type": "code",
   "execution_count": 128,
   "metadata": {},
   "outputs": [],
   "source": [
    "# We'll define a helper function to shift the frames, where\n",
    "# `x` is frames 0 to n - 1, and `y` is frames 1 to n.\n",
    "\n",
    "def create_shifted_frames(data,N_output):\n",
    "    x = data[:, 0 : data.shape[1] - N_output, :]   #data[:, 0 : data.shape[1] - 1, :]\n",
    "    y =   data[:, data.shape[1]-N_output : data.shape[1], :]      #data[:, 1 : data.shape[1], :]\n",
    "    return x, y"
   ]
  },
  {
   "cell_type": "code",
   "execution_count": 129,
   "metadata": {},
   "outputs": [
    {
     "name": "stdout",
     "output_type": "stream",
     "text": [
      "Training Dataset Shapes: (6598, 95, 253), (6598, 5, 253)\n",
      "Validation Dataset Shapes: (734, 95, 253), (734, 5, 253)\n"
     ]
    }
   ],
   "source": [
    "indexes = np.arange(X_new.shape[0])  #(\n",
    "np.random.shuffle(indexes)\n",
    "train_index = indexes[: int(0.9 * X_new.shape[0])] #X_encoded.shape[0]\n",
    "val_index = indexes[int(0.9 * X_new.shape[0]) :]  \n",
    "train_dataset = X_new[train_index]\n",
    "val_dataset = X_new[val_index]\n",
    "\n",
    "N_outputs=5   # predict the last N frames\n",
    "\n",
    "# Apply the processing function to the datasets.\n",
    "x_train, y_train = create_shifted_frames(train_dataset[:, 0:train_dataset.shape[1]:1],N_outputs)  #train_dataset.shape[1]:4\n",
    "x_val, y_val = create_shifted_frames(val_dataset[:, 0:val_dataset.shape[1]:1],N_outputs)  #val_dataset.shape[1]:4\n",
    "\n",
    "# Inspect the dataset.\n",
    "print(\"Training Dataset Shapes: \" + str(x_train.shape) + \", \" + str(y_train.shape))\n",
    "print(\"Validation Dataset Shapes: \" + str(x_val.shape) + \", \" + str(y_val.shape))\n"
   ]
  },
  {
   "cell_type": "markdown",
   "metadata": {},
   "source": [
    "# Normalize data"
   ]
  },
  {
   "cell_type": "code",
   "execution_count": null,
   "metadata": {},
   "outputs": [],
   "source": [
    "# a first way to normaize data \n",
    "def get_normalized_data(array_data,scaler):\n",
    "    \n",
    "    x_train_scaled,y_train_scaled,x_val_scaled,y_val_scaled=[],[],[],[]\n",
    "    dummy=[]\n",
    "    for idx in range(len(array_data)):\n",
    "        m=np.asarray(array_data[idx]).shape[0]\n",
    "        n=np.asarray(array_data[idx]).shape[1]\n",
    "        data=[]\n",
    "        for i in range(m):  \n",
    "            sequence=[] \n",
    "            for j in range(n):\n",
    "                x=array_data[idx][i][j]\n",
    "                x = x.reshape(len(x), 1)\n",
    "                scaler = scaler.fit(x)\n",
    "                x_scaled=scaler.transform(x)\n",
    "                x_scaled=np.squeeze(x_scaled, axis=1)\n",
    "                sequence.append(x_scaled)\n",
    "            data.append(sequence)\n",
    "        dummy.append(data)\n",
    "    x_train_scaled,y_train_scaled,x_val_scaled,y_val_scaled=np.asarray(dummy[0]),np.asarray(dummy[1]),\\\n",
    "        np.asarray(dummy[2]),np.asarray(dummy[3])\n",
    "    return  x_train_scaled,y_train_scaled,x_val_scaled,y_val_scaled\n"
   ]
  },
  {
   "cell_type": "code",
   "execution_count": 130,
   "metadata": {},
   "outputs": [],
   "source": [
    "import numpy as np\n",
    "from sklearn.base import TransformerMixin\n",
    "from sklearn.preprocessing import StandardScaler\n",
    "\n",
    "# more robsut way for normalization \n",
    "# https://pyquestions.com/how-to-standard-scale-a-3d-matrix\n",
    "class NDStandardScaler(TransformerMixin):\n",
    "    def __init__(self, **kwargs):\n",
    "        self._scaler = MinMaxScaler(feature_range=(0,1)) # StandardScaler() #\n",
    "        self._orig_shape = None\n",
    "\n",
    "    def fit(self, X, **kwargs):\n",
    "        X = np.array(X)\n",
    "        # Save the original shape to reshape the flattened X later\n",
    "        # back to its original shape\n",
    "        if len(X.shape) > 1:\n",
    "            self._orig_shape = X.shape[1:]\n",
    "        X = self._flatten(X)\n",
    "        self._scaler.fit(X, **kwargs)\n",
    "        return self\n",
    "\n",
    "    def transform(self, X, **kwargs):\n",
    "        X = np.array(X)\n",
    "        X = self._flatten(X)\n",
    "        X = self._scaler.transform(X, **kwargs)\n",
    "        X = self._reshape(X)\n",
    "        return X\n",
    "\n",
    "    def inverse_transform(self, X, **kwargs):\n",
    "        X = np.array(X)\n",
    "        X = self._flatten(X)\n",
    "        X = self._scaler.inverse_transform(X, **kwargs)\n",
    "        X = self._reshape(X)\n",
    "        return X\n",
    "\n",
    "    def _flatten(self, X):\n",
    "        # Reshape X to <= 2 dimensions\n",
    "        if len(X.shape) > 2:\n",
    "            n_dims = np.prod(self._orig_shape)\n",
    "            X = X.reshape(-1, n_dims)\n",
    "        return X\n",
    "\n",
    "    def _reshape(self, X):\n",
    "        # Reshape X back to it's original shape\n",
    "        if len(X.shape) >= 2:\n",
    "            X = X.reshape(-1, *self._orig_shape)\n",
    "        return X"
   ]
  },
  {
   "cell_type": "code",
   "execution_count": null,
   "metadata": {},
   "outputs": [],
   "source": [
    "scaler_ND = NDStandardScaler()\n",
    "array_data=[x_train,y_train,x_val,y_val ]  \n",
    "\n",
    "#x_train_scaled,y_train_scaled,x_val_scaled,y_val_scaled=get_normalized_data(array_data,scaler)\n",
    "\n",
    "print(x_train.shape,x_val.shape,y_train.shape,y_val.shape)\n",
    "x_train_scaled = scaler_ND.fit_transform(x_train)\n",
    "print(x_train_scaled.min(),x_train_scaled.max())\n",
    "x_val_scaled = scaler_ND .transform(x_val)\n",
    "y_train_scaled = scaler_ND.fit_transform(y_train)\n",
    "print(y_train_scaled.min(),y_train_scaled.max())\n",
    "y_val_scaled = scaler_ND.transform(y_val)\n",
    "\n",
    "\n",
    "\n",
    "# Re-Inspect the dataset.\n",
    "print(\"Training Dataset Shapes: \" + str(x_train_scaled.shape) + \", \" + str(y_train_scaled.shape))\n",
    "print(\"Validation Dataset Shapes: \" + str(x_val_scaled.shape) + \", \" + str(y_val_scaled.shape))"
   ]
  },
  {
   "cell_type": "markdown",
   "metadata": {},
   "source": [
    "## minor checks"
   ]
  },
  {
   "cell_type": "code",
   "execution_count": 132,
   "metadata": {},
   "outputs": [
    {
     "name": "stdout",
     "output_type": "stream",
     "text": [
      "original: i=  4091  j=  2  min:  -1.027309432300245  max:  1.1\n",
      "scaled:  i=  4091  j=  2  min:  0.04513166182169104  max:  0.9704315636753037\n"
     ]
    }
   ],
   "source": [
    "i =np.random.choice(range(len(y_train_scaled)), size=1)[0] \n",
    "j=np.random.choice(range(y_train_scaled.shape[1]), size=1)[0]\n",
    "print('original:' ,'i= ',i,' j= ',j,' min: ',y_train[i][j].min(),' max: ',y_train[i][j].max())\n",
    "print('scaled: ','i= ',i,' j= ',j,' min: ',y_train_scaled[i][j].min(),' max: ',y_train_scaled[i][j].max())"
   ]
  },
  {
   "cell_type": "markdown",
   "metadata": {},
   "source": [
    "## Model architecture (LSTM or GRU : the same)"
   ]
  },
  {
   "cell_type": "code",
   "execution_count": 387,
   "metadata": {},
   "outputs": [
    {
     "name": "stdout",
     "output_type": "stream",
     "text": [
      "Model: \"sequential_4\"\n",
      "_________________________________________________________________\n",
      "Layer (type)                 Output Shape              Param #   \n",
      "=================================================================\n",
      "lstm_8 (LSTM)                (None, 500)               1508000   \n",
      "_________________________________________________________________\n",
      "repeat_vector_4 (RepeatVecto (None, 5, 500)            0         \n",
      "_________________________________________________________________\n",
      "lstm_9 (LSTM)                (None, 5, 500)            2002000   \n",
      "_________________________________________________________________\n",
      "module_wrapper_22 (ModuleWra (None, 5, 500)            2002000   \n",
      "_________________________________________________________________\n",
      "module_wrapper_23 (ModuleWra (None, 5, 500)            2002000   \n",
      "_________________________________________________________________\n",
      "module_wrapper_24 (ModuleWra (None, 5, 500)            2002000   \n",
      "_________________________________________________________________\n",
      "module_wrapper_25 (ModuleWra (None, 5, 500)            2002000   \n",
      "_________________________________________________________________\n",
      "dense_3 (Dense)              (None, 5, 253)            126753    \n",
      "=================================================================\n",
      "Total params: 11,644,753\n",
      "Trainable params: 11,644,753\n",
      "Non-trainable params: 0\n",
      "_________________________________________________________________\n"
     ]
    }
   ],
   "source": [
    "from keras.models import Sequential\n",
    "from keras.layers import LSTM, Dense  , RepeatVector, TimeDistributed\n",
    "from keras.layers.core import Dense, Activation, Dense, Dropout\n",
    "\n",
    "N_INPUTS=x_train_scaled.shape[1]\n",
    "N_OUTPUTS=y_val_scaled.shape[1]\n",
    "N_FEATURES=X_new.shape[2]\n",
    "N_BLOCKS=500\n",
    "\n",
    "\n",
    "model = Sequential()\n",
    "model.add(LSTM(N_BLOCKS, input_shape=(N_INPUTS, N_FEATURES) ))  \n",
    "model.add(RepeatVector(N_OUTPUTS))\n",
    "\n",
    "model.add(LSTM(N_BLOCKS, return_sequences=True)) \n",
    "\n",
    "\n",
    "\n",
    "model.add(layers.LSTM(N_BLOCKS, return_sequences=True))\n",
    "model.add(layers.LSTM(N_BLOCKS, return_sequences=True))\n",
    "\n",
    "model.add(layers.LSTM(N_BLOCKS, return_sequences=True))\n",
    "model.add(layers.LSTM(N_BLOCKS, return_sequences=True))\n",
    "\n",
    "\n",
    "\n",
    "\"\"\"\n",
    "model.add(layers.Dropout(0.2))\n",
    "\n",
    "model.add(layers.LSTM(N_BLOCKS, return_sequences=True))\n",
    "model.add(layers.Dropout(0.2))\n",
    "\n",
    "model.add(layers.LSTM(N_BLOCKS, return_sequences=True))\n",
    "model.add(layers.Dropout(0.2))\n",
    "\"\"\"\n",
    "\n",
    "model.add(Dense(N_FEATURES))\n",
    "#model.add(Activation('linear'))\n",
    "model.compile(loss='mse', optimizer='adamax')\n",
    "model.summary()\n",
    "\n"
   ]
  },
  {
   "cell_type": "code",
   "execution_count": 388,
   "metadata": {},
   "outputs": [
    {
     "name": "stdout",
     "output_type": "stream",
     "text": [
      "Epoch 1/20\n",
      "207/207 [==============================] - 153s 689ms/step - loss: 0.0486 - val_loss: 0.0102\n",
      "Epoch 2/20\n",
      "207/207 [==============================] - 139s 671ms/step - loss: 0.0106 - val_loss: 0.0101\n",
      "Epoch 3/20\n",
      "207/207 [==============================] - 140s 676ms/step - loss: 0.0108 - val_loss: 0.0101\n",
      "Epoch 4/20\n",
      "207/207 [==============================] - 127s 614ms/step - loss: 0.0107 - val_loss: 0.0102\n",
      "Epoch 5/20\n",
      "207/207 [==============================] - 130s 627ms/step - loss: 0.0107 - val_loss: 0.0102\n",
      "Epoch 6/20\n",
      "207/207 [==============================] - 123s 594ms/step - loss: 0.0106 - val_loss: 0.0101\n",
      "Epoch 7/20\n",
      "207/207 [==============================] - 121s 587ms/step - loss: 0.0105 - val_loss: 0.0102\n",
      "Epoch 8/20\n",
      "207/207 [==============================] - 119s 576ms/step - loss: 0.0108 - val_loss: 0.0102\n",
      "Epoch 9/20\n",
      "207/207 [==============================] - 130s 629ms/step - loss: 0.0106 - val_loss: 0.0102\n",
      "Epoch 10/20\n",
      "207/207 [==============================] - 133s 641ms/step - loss: 0.0107 - val_loss: 0.0102\n",
      "Epoch 11/20\n",
      "207/207 [==============================] - 130s 628ms/step - loss: 0.0108 - val_loss: 0.0101\n",
      "Epoch 12/20\n",
      "207/207 [==============================] - 124s 596ms/step - loss: 0.0107 - val_loss: 0.0102\n",
      "Epoch 13/20\n",
      "207/207 [==============================] - 132s 637ms/step - loss: 0.0106 - val_loss: 0.0101\n",
      "Epoch 00013: early stopping\n"
     ]
    }
   ],
   "source": [
    "from keras.callbacks import EarlyStopping \n",
    "earlyStop = EarlyStopping(monitor=\"val_loss\",verbose=2,mode='min',patience=10)\n",
    "model_checkpoint=tf.keras.callbacks.ModelCheckpoint('CIFAR10{epoch:02d}.h5',save_freq=2,save_weights_only=False)\n",
    "history=model.fit(x_train_scaled, y_train_scaled,\n",
    "          batch_size=32, epochs=20,\n",
    "          validation_data=(x_val_scaled, y_val_scaled), callbacks=earlyStop)\n"
   ]
  },
  {
   "cell_type": "markdown",
   "metadata": {},
   "source": [
    "##show loss"
   ]
  },
  {
   "cell_type": "code",
   "execution_count": 389,
   "metadata": {},
   "outputs": [
    {
     "data": {
      "image/png": "[encoded data removed]",
      "text/plain": [
       "<Figure size 432x288 with 1 Axes>"
      ]
     },
     "metadata": {
      "needs_background": "light"
     },
     "output_type": "display_data"
    }
   ],
   "source": [
    "plt.plot(history.history['loss'])\n",
    "plt.plot(history.history['val_loss'])\n",
    "plt.title('model loss')\n",
    "plt.ylabel('loss')\n",
    "plt.xlabel('epoch')\n",
    "plt.legend(['train', 'test'], loc='upper right')\n",
    "plt.show()\n"
   ]
  },
  {
   "cell_type": "markdown",
   "metadata": {},
   "source": [
    "## save the model"
   ]
  },
  {
   "cell_type": "code",
   "execution_count": null,
   "metadata": {},
   "outputs": [],
   "source": [
    "lstm_model_name='lstm_7000_750_pca_250_81epoch.h5'  # 7000 samples ,  750: laten dim 1  , 250 : latent dim 2 , epochs for training : 81 \n",
    "model.save(lstm_model_name)\n",
    "#model.save(os.path.join(save_dir,lstm_model_name))"
   ]
  },
  {
   "cell_type": "markdown",
   "metadata": {},
   "source": [
    "### load the saved model"
   ]
  },
  {
   "cell_type": "code",
   "execution_count": null,
   "metadata": {},
   "outputs": [],
   "source": [
    "model=load_model(os.path.join(save_dir,lstm_model_name))\n"
   ]
  },
  {
   "cell_type": "markdown",
   "metadata": {},
   "source": [
    "# make predictions"
   ]
  },
  {
   "cell_type": "code",
   "execution_count": 339,
   "metadata": {},
   "outputs": [
    {
     "name": "stdout",
     "output_type": "stream",
     "text": [
      "sample n° : 579 from the validate dataset\n",
      "example.shape :  (95, 253)\n",
      "shape of frames to predict:  (95, 253)\n",
      "new_prediction.shape:  (5, 253)\n",
      "\"original_frames+prediction\" shape  (100, 253)\n",
      "actual_frames.shape (95, 253) (253,)\n",
      "min,max 0.03556372155356591 0.8323491425305769\n",
      "new_prediction.shape (5, 253) (253,)\n",
      "min,max 0.23390578 0.5867462\n",
      "new_prediction.shape (5, 253)\n"
     ]
    },
    {
     "data": {
      "text/plain": [
       "\"\\nfrom sklearn.metrics import mean_squared_error, r2_score\\nindex_1=np.random.choice(range(len(y_val_scaled[::, ::,3:y_val.shape[2]])), size=1)[0]\\ny_actual= y_val_scaled[::, ::,3:y_val.shape[2]][index_1]\\ny_predicted=new_prediction\\nrms = mean_squared_error(y_actual, y_predicted, squared=False)\\nr2=r2_score(y_actual[0], y_predicted[0])\\nprint('r2 :', r2, ' RMSE: ',rms )\\n\""
      ]
     },
     "execution_count": 339,
     "metadata": {},
     "output_type": "execute_result"
    }
   ],
   "source": [
    "index= np.random.choice(range(len(x_val_scaled)), size=1)[0]\n",
    "print('sample n° :',index, 'from the validate dataset')\n",
    "\n",
    "\n",
    "example =x_val_scaled[index] \n",
    "print('example.shape : ',example.shape)\n",
    "actual_frames=example[:N_INPUTS, ...]\n",
    "print('shape of frames to predict: ',actual_frames.shape)\n",
    "\n",
    "new_prediction = model.predict(np.expand_dims(actual_frames, axis=0))\n",
    "new_prediction = np.squeeze(new_prediction, axis=0)\n",
    "print('new_prediction.shape: ',new_prediction.shape)\n",
    "\n",
    "sequence = np.concatenate((actual_frames, new_prediction), axis=0)\n",
    "print('\"original_frames+prediction\" shape ',sequence .shape)\n",
    "\n",
    "print('actual_frames.shape',actual_frames.shape,actual_frames[0].shape)\n",
    "print('min,max',actual_frames[0].min(),actual_frames[0].max())\n",
    "\n",
    "print('new_prediction.shape',new_prediction.shape,new_prediction[0].shape)\n",
    "print('min,max',new_prediction[0].min(),new_prediction[0].max())\n",
    "#new_prediction=new_prediction[::, 3:new_prediction.shape[1]]  # uncomment if characteristics are not considered\n",
    "print('new_prediction.shape',new_prediction.shape)\n",
    "\"\"\"\n",
    "from sklearn.metrics import mean_squared_error, r2_score\n",
    "index_1=np.random.choice(range(len(y_val_scaled[::, ::,3:y_val.shape[2]])), size=1)[0]\n",
    "y_actual= y_val_scaled[::, ::,3:y_val.shape[2]][index_1]\n",
    "y_predicted=new_prediction\n",
    "rms = mean_squared_error(y_actual, y_predicted, squared=False)\n",
    "r2=r2_score(y_actual[0], y_predicted[0])\n",
    "print('r2 :', r2, ' RMSE: ',rms )\n",
    "\"\"\"\n"
   ]
  },
  {
   "cell_type": "markdown",
   "metadata": {},
   "source": [
    "## plot predictions  (for small sequence)"
   ]
  },
  {
   "cell_type": "code",
   "execution_count": 340,
   "metadata": {},
   "outputs": [
    {
     "name": "stdout",
     "output_type": "stream",
     "text": [
      "(734, 5, 250)\n",
      "(3670, 250)\n"
     ]
    }
   ],
   "source": [
    "#y_val=y_val[::, ::,3:y_val.shape[2]]\n",
    "print(y_val.shape)\n",
    "print(y_val.reshape(np.prod(y_val.shape[:2]),*y_val.shape[2:]).shape)"
   ]
  },
  {
   "cell_type": "markdown",
   "metadata": {},
   "source": [
    "#### y_val_rescaled ;  the shape of the code (auto-encoder)"
   ]
  },
  {
   "cell_type": "code",
   "execution_count": 341,
   "metadata": {},
   "outputs": [
    {
     "name": "stdout",
     "output_type": "stream",
     "text": [
      "(3670, 750)\n"
     ]
    }
   ],
   "source": [
    "y_val_recovered_scaled=pca.inverse_transform(y_val.reshape(np.prod(y_val.shape[:2]),*y_val.shape[2:]))\n",
    "print(y_val_recovered_scaled.shape)"
   ]
  },
  {
   "cell_type": "code",
   "execution_count": 342,
   "metadata": {},
   "outputs": [
    {
     "name": "stdout",
     "output_type": "stream",
     "text": [
      "(734, 5, 250)\n",
      "(734, 5, 750)\n"
     ]
    }
   ],
   "source": [
    "# reshape y_val_rescaled\n",
    "print(y_val.shape)\n",
    "origninal_shape=(y_val.shape[0],y_val.shape[1],y_val_recovered.shape[-1])\n",
    "\n",
    "#y_val_recovered=get_rescaled_array(y_val_recovered).reshape(origninal_shape)\n",
    "y_val_recovered=scaler.inverse_transform(y_val_recovered_scaled)  #)\n",
    "y_val_recovered=y_val_recovered.reshape(origninal_shape)\n",
    "print(y_val_recovered.shape)\n"
   ]
  },
  {
   "cell_type": "markdown",
   "metadata": {},
   "source": [
    "#### new_prediction_rescaled => the shape of the code (auto-encoder)"
   ]
  },
  {
   "cell_type": "code",
   "execution_count": 343,
   "metadata": {},
   "outputs": [
    {
     "name": "stdout",
     "output_type": "stream",
     "text": [
      "(5, 253)\n",
      "(5, 750)\n"
     ]
    }
   ],
   "source": [
    "print(new_prediction.shape)\n",
    "#new_prediction_recovered=get_rescaled_array(pca.inverse_transform(new_prediction))\n",
    "new_prediction_recovered=scaler.inverse_transform(pca.inverse_transform(new_prediction[::,3:new_prediction.shape[1]]))\n",
    "print(new_prediction_recovered.shape)"
   ]
  },
  {
   "cell_type": "code",
   "execution_count": null,
   "metadata": {},
   "outputs": [],
   "source": [
    "#encoded_original_frames=y_val[index]\n",
    "\n",
    "#  original last n frames (to predict)\n",
    "encoded_original_frames= y_val_recovered[index] #[::, ::,3:y_val.shape[2]][index]  : use this in the first time to delete simulation characteristics : 253 ==> 250\n",
    "\n",
    "\n",
    "# Construct a figure for the original and new frames.\n",
    "fig, axes = plt.subplots(2, 5, figsize=(20, 4))\n",
    "\n",
    "# original frames\n",
    "for idx, ax in enumerate(axes[0]):\n",
    "    code=encoded_original_frames[idx]\n",
    "    #print(code.shape)\n",
    "    img=decoder.predict(code[None])[0]\n",
    "    ax.imshow(np.clip(img + 0.5, 0, 1))\n",
    "    ax.set_title(f\"Frame {idx + N_INPUTS+1}\")\n",
    "    ax.axis(\"off\")\n",
    "    \n",
    "\n",
    "# prediction\n",
    "for idx, ax in enumerate(axes[1]):\n",
    "    code=new_prediction_recovered[idx]\n",
    "    #print(code.min(),code.max())\n",
    "    #print(code.shape)\n",
    "    #encoded_scaled_frame = code.reshape(encoded_scaled_frame.shape[0], 1)\n",
    "    #frame_inverted=scaler.inverse_transform(encoded_scaled_frame)   # you should use the same\n",
    "    #frame_inverted=np.squeeze(frame_inverted, axis=1)\n",
    "\n",
    "    img=decoder.predict(code[None])[0]\n",
    "    ax.imshow(np.clip(img+0.5, 0, 1))\n",
    "    #ax.imshow(frame)\n",
    "    ax.set_title(f\"Frame {idx + N_INPUTS+1}\") \n",
    "    ax.axis(\"off\")\n",
    "plt.savefig('predictions')"
   ]
  },
  {
   "cell_type": "markdown",
   "metadata": {},
   "source": [
    "## return MSE, r2"
   ]
  },
  {
   "cell_type": "code",
   "execution_count": null,
   "metadata": {},
   "outputs": [],
   "source": [
    "from sklearn.metrics import mean_squared_error, r2_score\n",
    "index_1=np.random.choice(range(len(y_val_scaled[::, ::,3:y_val.shape[2]])), size=1)[0]\n",
    "y_actual= y_val_scaled[::, ::,3:y_val.shape[2]][index_1]\n",
    "y_predicted=new_prediction\n",
    "rms = mean_squared_error(y_actual, y_predicted, squared=False)\n",
    "r2=r2_score(y_actual[0], y_predicted[0])\n",
    "print('r2 :', r2, ' RMSE: ',rms )"
   ]
  },
  {
   "cell_type": "code",
   "execution_count": null,
   "metadata": {},
   "outputs": [],
   "source": [
    "a_file = open(\"c0_save.txt\", \"w\")\n",
    "for row in denoise_image(denoise_image(img))[:, :, 0]:  #\n",
    "    np.savetxt(a_file, row)\n",
    "\n",
    "a_file.close()"
   ]
  },
  {
   "cell_type": "markdown",
   "metadata": {},
   "source": [
    "### LSTM/GRU"
   ]
  },
  {
   "cell_type": "code",
   "execution_count": 35,
   "metadata": {},
   "outputs": [],
   "source": [
    "loss_lstm_gru=np.loadtxt('loss_lstm_gru.txt')  # load saved losses\n",
    "loss_lstm=loss_lstm_gru[:,0]\n",
    "val_loss_lstm=loss_lstm_gru[:,1]\n",
    "loss_gru=loss_lstm_gru[:,2]\n",
    "val_loss_gru=loss_lstm_gru[:,3]"
   ]
  },
  {
   "cell_type": "code",
   "execution_count": 36,
   "metadata": {},
   "outputs": [
    {
     "data": {
      "text/plain": [
       "<matplotlib.legend.Legend at 0x1a49bf0f1c0>"
      ]
     },
     "execution_count": 36,
     "metadata": {},
     "output_type": "execute_result"
    },
    {
     "data": {
      "image/png": "[encoded data removed]",
      "text/plain": [
       "<Figure size 432x288 with 1 Axes>"
      ]
     },
     "metadata": {
      "needs_background": "light"
     },
     "output_type": "display_data"
    }
   ],
   "source": [
    "plt.plot(loss_lstm[:120],label='loss LSTM')\n",
    "plt.plot(val_loss_lstm[:120],label='val_loss LSTM')\n",
    "plt.plot(loss_gru[:60],label='loss GRU')\n",
    "plt.plot(val_loss_gru[:60],label='val_loss GRU')\n",
    "plt.xlabel('epochs')\n",
    "plt.ylabel('MSE - validation MSE')\n",
    "plt.legend()"
   ]
  }
 ],
 "metadata": {
  "interpreter": {
   "hash": "71a56fbf5ba7e64553c6c7132eb2580b036e978ff81ab26c35a5e52f37b2628b"
  },
  "kernelspec": {
   "display_name": "Python 3.8.10 64-bit (windows store)",
   "language": "python",
   "name": "python3"
  },
  "language_info": {
   "codemirror_mode": {
    "name": "ipython",
    "version": 3
   },
   "file_extension": ".py",
   "mimetype": "text/x-python",
   "name": "python",
   "nbconvert_exporter": "python",
   "pygments_lexer": "ipython3",
   "version": "3.8.10"
  },
  "orig_nbformat": 4
 },
 "nbformat": 4,
 "nbformat_minor": 2
}
